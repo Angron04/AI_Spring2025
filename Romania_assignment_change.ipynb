{
  "nbformat": 4,
  "nbformat_minor": 0,
  "metadata": {
    "colab": {
      "provenance": [],
      "authorship_tag": "ABX9TyOgk63AQyjTCKfjXCtbSQR/",
      "include_colab_link": true
    },
    "kernelspec": {
      "name": "python3",
      "display_name": "Python 3"
    },
    "language_info": {
      "name": "python"
    }
  },
  "cells": [
    {
      "cell_type": "markdown",
      "metadata": {
        "id": "view-in-github",
        "colab_type": "text"
      },
      "source": [
        "<a href=\"https://colab.research.google.com/github/alex-smith-uwec/AI_Spring2025/blob/main/Romania_assignment_change.ipynb\" target=\"_parent\"><img src=\"https://colab.research.google.com/assets/colab-badge.svg\" alt=\"Open In Colab\"/></a>"
      ]
    },
    {
      "cell_type": "code",
      "source": [
        "import networkx as nx\n",
        "import matplotlib.pyplot as plt\n",
        "import heapq\n",
        "import random"
      ],
      "metadata": {
        "id": "yTaJrATZgP8_"
      },
      "execution_count": 62,
      "outputs": []
    },
    {
      "cell_type": "markdown",
      "source": [
        "#Set up Map as graph: See AIMA Figure 3.1 page 64\n",
        "But we making the environment stochastic, by assigning probabilites that the roads are passable."
      ],
      "metadata": {
        "id": "07b8fWAR5yQk"
      }
    },
    {
      "cell_type": "code",
      "source": [
        "# Sample Romania map data with custom node positions\n",
        "romania_map = { # use curly braces and colon to define the dictionary and its key-value pairs\n",
        "    'graph_dict': {\n",
        "        'Arad': {'Zerind': 75, 'Timisoara': 118, 'Sibiu': 140},\n",
        "        'Zerind': {'Arad': 75, 'Oradea': 71},\n",
        "        'Oradea': {'Zerind': 71, 'Sibiu': 151},\n",
        "        'Sibiu': {'Arad': 140, 'Oradea': 151, 'Fagaras': 99, 'Rimnicu Vilcea': 80},\n",
        "        'Timisoara': {'Arad': 118, 'Lugoj': 111},\n",
        "        'Lugoj': {'Timisoara': 111, 'Mehadia': 70},\n",
        "        'Mehadia': {'Lugoj': 70, 'Drobeta': 75},\n",
        "        'Drobeta': {'Mehadia': 75, 'Craiova': 120},\n",
        "        'Craiova': {'Drobeta': 120, 'Pitesti': 138, 'Rimnicu Vilcea': 146},\n",
        "        'Rimnicu Vilcea': {'Sibiu': 80, 'Craiova': 146, 'Pitesti': 97},\n",
        "        'Fagaras': {'Sibiu': 99, 'Bucharest': 211},\n",
        "        'Pitesti': {'Rimnicu Vilcea': 97, 'Craiova': 138, 'Bucharest': 101},\n",
        "        'Bucharest': {'Fagaras': 211, 'Pitesti': 101, 'Giurgiu': 90, 'Urziceni': 85},\n",
        "        'Giurgiu': {'Bucharest': 90},\n",
        "        'Urziceni': {'Bucharest': 85, 'Hirsova': 98, 'Vaslui': 142},\n",
        "        'Hirsova': {'Urziceni': 98, 'Eforie': 86},\n",
        "        'Eforie': {'Hirsova': 86},\n",
        "        'Vaslui': {'Urziceni': 142, 'Iasi': 92},\n",
        "        'Iasi': {'Vaslui': 92, 'Neamt': 87},\n",
        "        'Neamt': {'Iasi': 87}\n",
        "    }\n",
        "} # Closing curly brace for the outer dictionary\n",
        "\n",
        "# Add random probabilities to each edge\n",
        "for city, neighbors in romania_map['graph_dict'].items():\n",
        "    for neighbor, distance in list(neighbors.items()):  # Iterate over a copy of the items\n",
        "        probability =round(random.uniform(0.01, 1.0), 2)  # Generate random probability between 0.5 and 1.0\n",
        "        romania_map['graph_dict'][city][neighbor] = (distance, probability)"
      ],
      "metadata": {
        "id": "zwZ8CVK2gybq"
      },
      "execution_count": 64,
      "outputs": []
    },
    {
      "cell_type": "code",
      "source": [
        "# prompt: Replace romania_map with a graph having 40 nodes. The probability of an edge between two nodes is 0.3.\n",
        "\n",
        "import networkx as nx\n",
        "import matplotlib.pyplot as plt\n",
        "import heapq\n",
        "import random\n",
        "\n",
        "# Create a graph with 40 nodes\n",
        "romania_map = {'graph_dict': {}}\n",
        "num_nodes = 40\n",
        "nodes = list(range(num_nodes))\n",
        "\n",
        "# Add nodes to the graph\n",
        "for node in nodes:\n",
        "    romania_map['graph_dict'][node] = {}\n",
        "\n",
        "# Add edges with a 0.3 probability\n",
        "for i in range(num_nodes):\n",
        "    for j in range(i + 1, num_nodes):\n",
        "        if random.random() < 0.3:\n",
        "            distance = random.randint(10, 200)  # Assign a random distance between 10 and 200\n",
        "            probability = round(random.uniform(0.01, 1.0), 2)\n",
        "            romania_map['graph_dict'][i][j] = (distance, probability)\n",
        "            romania_map['graph_dict'][j][i] = (distance, probability)\n",
        "\n",
        "\n",
        "# Add random probabilities to each edge\n",
        "for city, neighbors in romania_map['graph_dict'].items():\n",
        "    for neighbor, distance in list(neighbors.items()):  # Iterate over a copy of the items\n",
        "        probability =round(random.uniform(0.01, 1.0), 2)  # Generate random probability between 0.5 and 1.0\n",
        "        romania_map['graph_dict'][city][neighbor] = (distance, probability)"
      ],
      "metadata": {
        "id": "dGmTOeDdEzlE"
      },
      "execution_count": 65,
      "outputs": []
    },
    {
      "cell_type": "code",
      "source": [
        "node_colors = {node: 'white' for node in romania_map}\n",
        "# node_positions = romania_map['locations']\n",
        "# node_label_positions = {k: [v[0], v[1] - 10] for k, v in romania_map['locations'].items()}\n",
        "edge_weights = {(k, k2): v2 for k, v in romania_map['graph_dict'].items() for k2, v2 in v.items()}\n",
        "\n",
        "romania_graph_data = {\n",
        "    'graph_dict': romania_map['graph_dict'],\n",
        "    'node_colors': node_colors,\n",
        "    'node_positions': node_positions,\n",
        "    'node_label_positions': node_label_positions,\n",
        "    'edge_weights': edge_weights\n",
        "}"
      ],
      "metadata": {
        "id": "tvwWuEcljKBX"
      },
      "execution_count": 66,
      "outputs": []
    },
    {
      "cell_type": "code",
      "source": [
        "# Create the graph\n",
        "graph = nx.Graph()\n",
        "for node, neighbors in romania_graph_data['graph_dict'].items():\n",
        "    for neighbor, weight in neighbors.items():\n",
        "        graph.add_edge(node, neighbor, weight=weight)\n",
        "\n",
        "# Plot the graph\n",
        "plt.figure(figsize=(12, 8))\n",
        "nx.draw(graph,\n",
        "        # pos=romania_graph_data['node_positions'],\n",
        "        with_labels=True,\n",
        "        node_size=2000,\n",
        "        node_color=list(romania_graph_data['node_colors'].values()),\n",
        "        font_size=10,\n",
        "        font_weight='bold',\n",
        "        edge_color='black')\n",
        "\n",
        "# Add edge labels for weights\n",
        "nx.draw_networkx_edge_labels(\n",
        "    graph,\n",
        "    pos=romania_graph_data['node_positions'],\n",
        "    edge_labels=romania_graph_data['edge_weights'],\n",
        "    font_size=8\n",
        ")\n",
        "\n",
        "plt.title(\"Romania Cities\")\n",
        "plt.show()\n"
      ],
      "metadata": {
        "colab": {
          "base_uri": "https://localhost:8080/",
          "height": 1000
        },
        "id": "C_Vb-1xIjDLg",
        "outputId": "990974a1-64d2-4f4c-ee04-221136ca48a8"
      },
      "execution_count": 67,
      "outputs": [
        {
          "output_type": "error",
          "ename": "ValueError",
          "evalue": "setting an array element with a sequence. The requested array has an inhomogeneous shape after 2 dimensions. The detected shape was (247, 2) + inhomogeneous part.",
          "traceback": [
            "\u001b[0;31m---------------------------------------------------------------------------\u001b[0m",
            "\u001b[0;31mValueError\u001b[0m                                Traceback (most recent call last)",
            "\u001b[0;32m/usr/local/lib/python3.11/dist-packages/networkx/drawing/layout.py\u001b[0m in \u001b[0;36mspring_layout\u001b[0;34m(G, k, pos, fixed, iterations, threshold, weight, scale, center, dim, seed)\u001b[0m\n\u001b[1;32m    479\u001b[0m         \u001b[0;32mif\u001b[0m \u001b[0mlen\u001b[0m\u001b[0;34m(\u001b[0m\u001b[0mG\u001b[0m\u001b[0;34m)\u001b[0m \u001b[0;34m<\u001b[0m \u001b[0;36m500\u001b[0m\u001b[0;34m:\u001b[0m  \u001b[0;31m# sparse solver for large graphs\u001b[0m\u001b[0;34m\u001b[0m\u001b[0;34m\u001b[0m\u001b[0m\n\u001b[0;32m--> 480\u001b[0;31m             \u001b[0;32mraise\u001b[0m \u001b[0mValueError\u001b[0m\u001b[0;34m\u001b[0m\u001b[0;34m\u001b[0m\u001b[0m\n\u001b[0m\u001b[1;32m    481\u001b[0m         \u001b[0mA\u001b[0m \u001b[0;34m=\u001b[0m \u001b[0mnx\u001b[0m\u001b[0;34m.\u001b[0m\u001b[0mto_scipy_sparse_array\u001b[0m\u001b[0;34m(\u001b[0m\u001b[0mG\u001b[0m\u001b[0;34m,\u001b[0m \u001b[0mweight\u001b[0m\u001b[0;34m=\u001b[0m\u001b[0mweight\u001b[0m\u001b[0;34m,\u001b[0m \u001b[0mdtype\u001b[0m\u001b[0;34m=\u001b[0m\u001b[0;34m\"f\"\u001b[0m\u001b[0;34m)\u001b[0m\u001b[0;34m\u001b[0m\u001b[0;34m\u001b[0m\u001b[0m\n",
            "\u001b[0;31mValueError\u001b[0m: ",
            "\nDuring handling of the above exception, another exception occurred:\n",
            "\u001b[0;31mValueError\u001b[0m                                Traceback (most recent call last)",
            "\u001b[0;32m<ipython-input-67-9dfd08643352>\u001b[0m in \u001b[0;36m<cell line: 0>\u001b[0;34m()\u001b[0m\n\u001b[1;32m      7\u001b[0m \u001b[0;31m# Plot the graph\u001b[0m\u001b[0;34m\u001b[0m\u001b[0;34m\u001b[0m\u001b[0m\n\u001b[1;32m      8\u001b[0m \u001b[0mplt\u001b[0m\u001b[0;34m.\u001b[0m\u001b[0mfigure\u001b[0m\u001b[0;34m(\u001b[0m\u001b[0mfigsize\u001b[0m\u001b[0;34m=\u001b[0m\u001b[0;34m(\u001b[0m\u001b[0;36m12\u001b[0m\u001b[0;34m,\u001b[0m \u001b[0;36m8\u001b[0m\u001b[0;34m)\u001b[0m\u001b[0;34m)\u001b[0m\u001b[0;34m\u001b[0m\u001b[0;34m\u001b[0m\u001b[0m\n\u001b[0;32m----> 9\u001b[0;31m nx.draw(graph,\n\u001b[0m\u001b[1;32m     10\u001b[0m         \u001b[0;31m# pos=romania_graph_data['node_positions'],\u001b[0m\u001b[0;34m\u001b[0m\u001b[0;34m\u001b[0m\u001b[0m\n\u001b[1;32m     11\u001b[0m         \u001b[0mwith_labels\u001b[0m\u001b[0;34m=\u001b[0m\u001b[0;32mTrue\u001b[0m\u001b[0;34m,\u001b[0m\u001b[0;34m\u001b[0m\u001b[0;34m\u001b[0m\u001b[0m\n",
            "\u001b[0;32m/usr/local/lib/python3.11/dist-packages/networkx/drawing/nx_pylab.py\u001b[0m in \u001b[0;36mdraw\u001b[0;34m(G, pos, ax, **kwds)\u001b[0m\n\u001b[1;32m    124\u001b[0m         \u001b[0mkwds\u001b[0m\u001b[0;34m[\u001b[0m\u001b[0;34m\"with_labels\"\u001b[0m\u001b[0;34m]\u001b[0m \u001b[0;34m=\u001b[0m \u001b[0;34m\"labels\"\u001b[0m \u001b[0;32min\u001b[0m \u001b[0mkwds\u001b[0m\u001b[0;34m\u001b[0m\u001b[0;34m\u001b[0m\u001b[0m\n\u001b[1;32m    125\u001b[0m \u001b[0;34m\u001b[0m\u001b[0m\n\u001b[0;32m--> 126\u001b[0;31m     \u001b[0mdraw_networkx\u001b[0m\u001b[0;34m(\u001b[0m\u001b[0mG\u001b[0m\u001b[0;34m,\u001b[0m \u001b[0mpos\u001b[0m\u001b[0;34m=\u001b[0m\u001b[0mpos\u001b[0m\u001b[0;34m,\u001b[0m \u001b[0max\u001b[0m\u001b[0;34m=\u001b[0m\u001b[0max\u001b[0m\u001b[0;34m,\u001b[0m \u001b[0;34m**\u001b[0m\u001b[0mkwds\u001b[0m\u001b[0;34m)\u001b[0m\u001b[0;34m\u001b[0m\u001b[0;34m\u001b[0m\u001b[0m\n\u001b[0m\u001b[1;32m    127\u001b[0m     \u001b[0max\u001b[0m\u001b[0;34m.\u001b[0m\u001b[0mset_axis_off\u001b[0m\u001b[0;34m(\u001b[0m\u001b[0;34m)\u001b[0m\u001b[0;34m\u001b[0m\u001b[0;34m\u001b[0m\u001b[0m\n\u001b[1;32m    128\u001b[0m     \u001b[0mplt\u001b[0m\u001b[0;34m.\u001b[0m\u001b[0mdraw_if_interactive\u001b[0m\u001b[0;34m(\u001b[0m\u001b[0;34m)\u001b[0m\u001b[0;34m\u001b[0m\u001b[0;34m\u001b[0m\u001b[0m\n",
            "\u001b[0;32m/usr/local/lib/python3.11/dist-packages/networkx/drawing/nx_pylab.py\u001b[0m in \u001b[0;36mdraw_networkx\u001b[0;34m(G, pos, arrows, with_labels, **kwds)\u001b[0m\n\u001b[1;32m    310\u001b[0m \u001b[0;34m\u001b[0m\u001b[0m\n\u001b[1;32m    311\u001b[0m     \u001b[0;32mif\u001b[0m \u001b[0mpos\u001b[0m \u001b[0;32mis\u001b[0m \u001b[0;32mNone\u001b[0m\u001b[0;34m:\u001b[0m\u001b[0;34m\u001b[0m\u001b[0;34m\u001b[0m\u001b[0m\n\u001b[0;32m--> 312\u001b[0;31m         \u001b[0mpos\u001b[0m \u001b[0;34m=\u001b[0m \u001b[0mnx\u001b[0m\u001b[0;34m.\u001b[0m\u001b[0mdrawing\u001b[0m\u001b[0;34m.\u001b[0m\u001b[0mspring_layout\u001b[0m\u001b[0;34m(\u001b[0m\u001b[0mG\u001b[0m\u001b[0;34m)\u001b[0m  \u001b[0;31m# default to spring layout\u001b[0m\u001b[0;34m\u001b[0m\u001b[0;34m\u001b[0m\u001b[0m\n\u001b[0m\u001b[1;32m    313\u001b[0m \u001b[0;34m\u001b[0m\u001b[0m\n\u001b[1;32m    314\u001b[0m     \u001b[0mdraw_networkx_nodes\u001b[0m\u001b[0;34m(\u001b[0m\u001b[0mG\u001b[0m\u001b[0;34m,\u001b[0m \u001b[0mpos\u001b[0m\u001b[0;34m,\u001b[0m \u001b[0;34m**\u001b[0m\u001b[0mnode_kwds\u001b[0m\u001b[0;34m)\u001b[0m\u001b[0;34m\u001b[0m\u001b[0;34m\u001b[0m\u001b[0m\n",
            "\u001b[0;32m/usr/local/lib/python3.11/dist-packages/networkx/utils/decorators.py\u001b[0m in \u001b[0;36margmap_spring_layout_1\u001b[0;34m(G, k, pos, fixed, iterations, threshold, weight, scale, center, dim, seed)\u001b[0m\n\u001b[1;32m      2\u001b[0m \u001b[0;32mimport\u001b[0m \u001b[0mcollections\u001b[0m\u001b[0;34m\u001b[0m\u001b[0;34m\u001b[0m\u001b[0m\n\u001b[1;32m      3\u001b[0m \u001b[0;32mimport\u001b[0m \u001b[0mgzip\u001b[0m\u001b[0;34m\u001b[0m\u001b[0;34m\u001b[0m\u001b[0m\n\u001b[0;32m----> 4\u001b[0;31m \u001b[0;32mimport\u001b[0m \u001b[0minspect\u001b[0m\u001b[0;34m\u001b[0m\u001b[0;34m\u001b[0m\u001b[0m\n\u001b[0m\u001b[1;32m      5\u001b[0m \u001b[0;32mimport\u001b[0m \u001b[0mitertools\u001b[0m\u001b[0;34m\u001b[0m\u001b[0;34m\u001b[0m\u001b[0m\n\u001b[1;32m      6\u001b[0m \u001b[0;32mimport\u001b[0m \u001b[0mre\u001b[0m\u001b[0;34m\u001b[0m\u001b[0;34m\u001b[0m\u001b[0m\n",
            "\u001b[0;32m/usr/local/lib/python3.11/dist-packages/networkx/drawing/layout.py\u001b[0m in \u001b[0;36mspring_layout\u001b[0;34m(G, k, pos, fixed, iterations, threshold, weight, scale, center, dim, seed)\u001b[0m\n\u001b[1;32m    488\u001b[0m         )\n\u001b[1;32m    489\u001b[0m     \u001b[0;32mexcept\u001b[0m \u001b[0mValueError\u001b[0m\u001b[0;34m:\u001b[0m\u001b[0;34m\u001b[0m\u001b[0;34m\u001b[0m\u001b[0m\n\u001b[0;32m--> 490\u001b[0;31m         \u001b[0mA\u001b[0m \u001b[0;34m=\u001b[0m \u001b[0mnx\u001b[0m\u001b[0;34m.\u001b[0m\u001b[0mto_numpy_array\u001b[0m\u001b[0;34m(\u001b[0m\u001b[0mG\u001b[0m\u001b[0;34m,\u001b[0m \u001b[0mweight\u001b[0m\u001b[0;34m=\u001b[0m\u001b[0mweight\u001b[0m\u001b[0;34m)\u001b[0m\u001b[0;34m\u001b[0m\u001b[0;34m\u001b[0m\u001b[0m\n\u001b[0m\u001b[1;32m    491\u001b[0m         \u001b[0;32mif\u001b[0m \u001b[0mk\u001b[0m \u001b[0;32mis\u001b[0m \u001b[0;32mNone\u001b[0m \u001b[0;32mand\u001b[0m \u001b[0mfixed\u001b[0m \u001b[0;32mis\u001b[0m \u001b[0;32mnot\u001b[0m \u001b[0;32mNone\u001b[0m\u001b[0;34m:\u001b[0m\u001b[0;34m\u001b[0m\u001b[0;34m\u001b[0m\u001b[0m\n\u001b[1;32m    492\u001b[0m             \u001b[0;31m# We must adjust k by domain size for layouts not near 1x1\u001b[0m\u001b[0;34m\u001b[0m\u001b[0;34m\u001b[0m\u001b[0m\n",
            "\u001b[0;32m/usr/local/lib/python3.11/dist-packages/networkx/utils/decorators.py\u001b[0m in \u001b[0;36margmap_to_numpy_array_5\u001b[0;34m(G, nodelist, dtype, order, multigraph_weight, weight, nonedge, backend, **backend_kwargs)\u001b[0m\n\u001b[1;32m      1\u001b[0m \u001b[0;32mimport\u001b[0m \u001b[0mbz2\u001b[0m\u001b[0;34m\u001b[0m\u001b[0;34m\u001b[0m\u001b[0m\n\u001b[1;32m      2\u001b[0m \u001b[0;32mimport\u001b[0m \u001b[0mcollections\u001b[0m\u001b[0;34m\u001b[0m\u001b[0;34m\u001b[0m\u001b[0m\n\u001b[0;32m----> 3\u001b[0;31m \u001b[0;32mimport\u001b[0m \u001b[0mgzip\u001b[0m\u001b[0;34m\u001b[0m\u001b[0;34m\u001b[0m\u001b[0m\n\u001b[0m\u001b[1;32m      4\u001b[0m \u001b[0;32mimport\u001b[0m \u001b[0minspect\u001b[0m\u001b[0;34m\u001b[0m\u001b[0;34m\u001b[0m\u001b[0m\n\u001b[1;32m      5\u001b[0m \u001b[0;32mimport\u001b[0m \u001b[0mitertools\u001b[0m\u001b[0;34m\u001b[0m\u001b[0;34m\u001b[0m\u001b[0m\n",
            "\u001b[0;32m/usr/local/lib/python3.11/dist-packages/networkx/utils/backends.py\u001b[0m in \u001b[0;36m__call__\u001b[0;34m(self, backend, *args, **kwargs)\u001b[0m\n\u001b[1;32m   1353\u001b[0m                 \u001b[0;32mif\u001b[0m \u001b[0;32mnot\u001b[0m \u001b[0mgraph_backend_names\u001b[0m \u001b[0;32mor\u001b[0m \u001b[0mgraph_backend_names\u001b[0m \u001b[0;34m==\u001b[0m \u001b[0;34m{\u001b[0m\u001b[0mbackend_name\u001b[0m\u001b[0;34m}\u001b[0m\u001b[0;34m:\u001b[0m\u001b[0;34m\u001b[0m\u001b[0;34m\u001b[0m\u001b[0m\n\u001b[1;32m   1354\u001b[0m                     \u001b[0;32mif\u001b[0m \u001b[0mself\u001b[0m\u001b[0;34m.\u001b[0m\u001b[0m_can_backend_run\u001b[0m\u001b[0;34m(\u001b[0m\u001b[0mbackend_name\u001b[0m\u001b[0;34m,\u001b[0m \u001b[0margs\u001b[0m\u001b[0;34m,\u001b[0m \u001b[0mkwargs\u001b[0m\u001b[0;34m)\u001b[0m\u001b[0;34m:\u001b[0m\u001b[0;34m\u001b[0m\u001b[0;34m\u001b[0m\u001b[0m\n\u001b[0;32m-> 1355\u001b[0;31m                         \u001b[0;32mreturn\u001b[0m \u001b[0mself\u001b[0m\u001b[0;34m.\u001b[0m\u001b[0m_call_with_backend\u001b[0m\u001b[0;34m(\u001b[0m\u001b[0mbackend_name\u001b[0m\u001b[0;34m,\u001b[0m \u001b[0margs\u001b[0m\u001b[0;34m,\u001b[0m \u001b[0mkwargs\u001b[0m\u001b[0;34m)\u001b[0m\u001b[0;34m\u001b[0m\u001b[0;34m\u001b[0m\u001b[0m\n\u001b[0m\u001b[1;32m   1356\u001b[0m                 elif self._can_convert(\n\u001b[1;32m   1357\u001b[0m                     \u001b[0mbackend_name\u001b[0m\u001b[0;34m,\u001b[0m \u001b[0mgraph_backend_names\u001b[0m\u001b[0;34m\u001b[0m\u001b[0;34m\u001b[0m\u001b[0m\n",
            "\u001b[0;32m/usr/local/lib/python3.11/dist-packages/networkx/utils/backends.py\u001b[0m in \u001b[0;36m_call_with_backend\u001b[0;34m(self, backend_name, args, kwargs, extra_message)\u001b[0m\n\u001b[1;32m   1856\u001b[0m         \u001b[0;34m\"\"\"Call this dispatchable function with a backend without converting inputs.\"\"\"\u001b[0m\u001b[0;34m\u001b[0m\u001b[0;34m\u001b[0m\u001b[0m\n\u001b[1;32m   1857\u001b[0m         \u001b[0;32mif\u001b[0m \u001b[0mbackend_name\u001b[0m \u001b[0;34m==\u001b[0m \u001b[0;34m\"networkx\"\u001b[0m\u001b[0;34m:\u001b[0m\u001b[0;34m\u001b[0m\u001b[0;34m\u001b[0m\u001b[0m\n\u001b[0;32m-> 1858\u001b[0;31m             \u001b[0;32mreturn\u001b[0m \u001b[0mself\u001b[0m\u001b[0;34m.\u001b[0m\u001b[0morig_func\u001b[0m\u001b[0;34m(\u001b[0m\u001b[0;34m*\u001b[0m\u001b[0margs\u001b[0m\u001b[0;34m,\u001b[0m \u001b[0;34m**\u001b[0m\u001b[0mkwargs\u001b[0m\u001b[0;34m)\u001b[0m\u001b[0;34m\u001b[0m\u001b[0;34m\u001b[0m\u001b[0m\n\u001b[0m\u001b[1;32m   1859\u001b[0m         \u001b[0mbackend\u001b[0m \u001b[0;34m=\u001b[0m \u001b[0m_load_backend\u001b[0m\u001b[0;34m(\u001b[0m\u001b[0mbackend_name\u001b[0m\u001b[0;34m)\u001b[0m\u001b[0;34m\u001b[0m\u001b[0;34m\u001b[0m\u001b[0m\n\u001b[1;32m   1860\u001b[0m         _logger.debug(\n",
            "\u001b[0;32m/usr/local/lib/python3.11/dist-packages/networkx/convert_matrix.py\u001b[0m in \u001b[0;36mto_numpy_array\u001b[0;34m(G, nodelist, dtype, order, multigraph_weight, weight, nonedge)\u001b[0m\n\u001b[1;32m   1114\u001b[0m \u001b[0;34m\u001b[0m\u001b[0m\n\u001b[1;32m   1115\u001b[0m     \u001b[0;31m# Set array values with advanced indexing\u001b[0m\u001b[0;34m\u001b[0m\u001b[0;34m\u001b[0m\u001b[0m\n\u001b[0;32m-> 1116\u001b[0;31m     \u001b[0mA\u001b[0m\u001b[0;34m[\u001b[0m\u001b[0mi\u001b[0m\u001b[0;34m,\u001b[0m \u001b[0mj\u001b[0m\u001b[0;34m]\u001b[0m \u001b[0;34m=\u001b[0m \u001b[0mwts\u001b[0m\u001b[0;34m\u001b[0m\u001b[0;34m\u001b[0m\u001b[0m\n\u001b[0m\u001b[1;32m   1117\u001b[0m     \u001b[0;32mif\u001b[0m \u001b[0;32mnot\u001b[0m \u001b[0mG\u001b[0m\u001b[0;34m.\u001b[0m\u001b[0mis_directed\u001b[0m\u001b[0;34m(\u001b[0m\u001b[0;34m)\u001b[0m\u001b[0;34m:\u001b[0m\u001b[0;34m\u001b[0m\u001b[0;34m\u001b[0m\u001b[0m\n\u001b[1;32m   1118\u001b[0m         \u001b[0mA\u001b[0m\u001b[0;34m[\u001b[0m\u001b[0mj\u001b[0m\u001b[0;34m,\u001b[0m \u001b[0mi\u001b[0m\u001b[0;34m]\u001b[0m \u001b[0;34m=\u001b[0m \u001b[0mwts\u001b[0m\u001b[0;34m\u001b[0m\u001b[0;34m\u001b[0m\u001b[0m\n",
            "\u001b[0;31mValueError\u001b[0m: setting an array element with a sequence. The requested array has an inhomogeneous shape after 2 dimensions. The detected shape was (247, 2) + inhomogeneous part."
          ]
        },
        {
          "output_type": "display_data",
          "data": {
            "text/plain": [
              "<Figure size 1200x800 with 1 Axes>"
            ],
            "image/png": "[encoded data removed]"
          },
          "metadata": {}
        }
      ]
    },
    {
      "cell_type": "code",
      "source": [
        "# prompt: Treat the first entry of the tuple for the edges as a distance and give me code for uniform cost search from a starting city to a goal city.\n",
        "\n",
        "def uniform_cost_search(graph, start, goal):\n",
        "    \"\"\"\n",
        "    Performs uniform cost search on a graph.\n",
        "\n",
        "    Args:\n",
        "        graph: A networkx graph representing the map.\n",
        "        start: The starting city.\n",
        "        goal: The goal city.\n",
        "\n",
        "    Returns:\n",
        "        A tuple containing:\n",
        "            - A list of cities representing the path from start to goal.\n",
        "            - The total cost of the path.\n",
        "        Returns (None, None) if no path is found.\n",
        "    \"\"\"\n",
        "\n",
        "    frontier = [(0, start, [start])]  # (cost, current_node, path)\n",
        "    explored = set()\n",
        "\n",
        "    while frontier:\n",
        "        cost, current_node, path = heapq.heappop(frontier)\n",
        "\n",
        "        if current_node == goal:\n",
        "            return path, cost\n",
        "\n",
        "        explored.add(current_node)\n",
        "\n",
        "        for neighbor, data in graph[current_node].items():\n",
        "            if neighbor not in explored:\n",
        "                new_cost = cost + data['weight'][0]\n",
        "                new_path = path + [neighbor]\n",
        "                heapq.heappush(frontier, (new_cost, neighbor, new_path))\n",
        "\n",
        "    return None, None  # No path found\n",
        "\n",
        "\n",
        "# Example usage (replace with your desired start and goal cities):\n",
        "start_city = 'Arad'\n",
        "goal_city = 'Bucharest'\n",
        "\n",
        "path, cost = uniform_cost_search(graph, start_city, goal_city)\n",
        "\n",
        "if path:\n",
        "    print(f\"Path from {start_city} to {goal_city}: {path}\")\n",
        "    print(f\"Total cost: {cost}\")\n",
        "else:\n",
        "    print(f\"No path found from {start_city} to {goal_city}\")\n"
      ],
      "metadata": {
        "colab": {
          "base_uri": "https://localhost:8080/"
        },
        "id": "5cW8i-qrOSSe",
        "outputId": "ef26f00e-dbcf-44f0-a152-9b4986fd7cd0"
      },
      "execution_count": 42,
      "outputs": [
        {
          "output_type": "stream",
          "name": "stdout",
          "text": [
            "Path from Arad to Bucharest: ['Arad', 'Sibiu', 'Rimnicu Vilcea', 'Pitesti', 'Bucharest']\n",
            "Total cost: 418\n"
          ]
        }
      ]
    },
    {
      "cell_type": "code",
      "source": [
        "# prompt: Treat the second entry of the tuple for the edges as a probability and give me code for uniform cost search from a starting city to a goal city. The cost of a path is the product of the probabilities. We want to maximize.\n",
        "\n",
        "\n",
        "\n",
        "\n",
        "def uniform_cost_search(graph, start, goal):\n",
        "    \"\"\"\n",
        "    Performs uniform cost search on a graph, maximizing the product of probabilities.\n",
        "\n",
        "    Args:\n",
        "        graph: A networkx graph.\n",
        "        start: The starting city.\n",
        "        goal: The goal city.\n",
        "\n",
        "    Returns:\n",
        "        A tuple containing:\n",
        "            - A list of cities representing the path from start to goal.\n",
        "            - The product of probabilities for the path.\n",
        "        Returns (None, None) if no path is found.\n",
        "    \"\"\"\n",
        "\n",
        "    frontier = [(-1, start, [start])]  # (probability product, current_node, path)\n",
        "    explored = set()\n",
        "\n",
        "    while frontier:\n",
        "        probability_product, current_node, path = heapq.heappop(frontier)\n",
        "        probability_product = -probability_product #negate to use min-heap for max probability\n",
        "\n",
        "        if current_node == goal:\n",
        "            return path, probability_product\n",
        "\n",
        "        explored.add(current_node)\n",
        "\n",
        "        for neighbor, data in graph[current_node].items():\n",
        "            if neighbor not in explored:\n",
        "                new_probability_product = probability_product * data['weight'][1]\n",
        "                new_path = path + [neighbor]\n",
        "                heapq.heappush(frontier, (-new_probability_product, neighbor, new_path))\n",
        "\n",
        "    return None, None  # No path found\n",
        "\n",
        "\n",
        "# Example usage\n",
        "start_city = 'Arad'\n",
        "goal_city = 'Bucharest'\n",
        "\n",
        "path, probability_product = uniform_cost_search(graph, start_city, goal_city)\n",
        "\n",
        "if path:\n",
        "    print(f\"Path from {start_city} to {goal_city}: {path}\")\n",
        "    print(f\"Product of probabilities: {probability_product}\")\n",
        "else:\n",
        "    print(f\"No path found from {start_city} to {goal_city}\")\n"
      ],
      "metadata": {
        "colab": {
          "base_uri": "https://localhost:8080/"
        },
        "id": "40ZD5hKpQeXA",
        "outputId": "1d4255bb-fc2c-471b-8b7b-3f3baed85639"
      },
      "execution_count": 43,
      "outputs": [
        {
          "output_type": "stream",
          "name": "stdout",
          "text": [
            "Path from Arad to Bucharest: ['Arad', 'Sibiu', 'Rimnicu Vilcea', 'Pitesti', 'Bucharest']\n",
            "Product of probabilities: 0.16089051999999998\n"
          ]
        }
      ]
    },
    {
      "cell_type": "code",
      "source": [
        "# prompt: let us define wasted length as distance*(1-probability). I want to use a uniform cost approach to minimize wasted length as the agent goes from start to goal\n",
        "\n",
        "\n",
        "\n",
        "\n",
        "def uniform_cost_search_min_wasted_length(graph, start, goal):\n",
        "    \"\"\"\n",
        "    Performs uniform cost search to minimize wasted length.\n",
        "    \"\"\"\n",
        "    frontier = [(0, start, [start])]  # (wasted_length, current_node, path)\n",
        "    explored = set()\n",
        "\n",
        "    while frontier:\n",
        "        wasted_length, current_node, path = heapq.heappop(frontier)\n",
        "\n",
        "        if current_node == goal:\n",
        "            return path, wasted_length\n",
        "\n",
        "        explored.add(current_node)\n",
        "\n",
        "        for neighbor, data in graph[current_node].items():\n",
        "            if neighbor not in explored:\n",
        "                distance, probability = data['weight']\n",
        "                new_wasted_length = wasted_length + distance * (1 - probability)\n",
        "                new_path = path + [neighbor]\n",
        "                heapq.heappush(frontier, (new_wasted_length, neighbor, new_path))\n",
        "\n",
        "    return None, None  # No path found\n",
        "\n",
        "\n",
        "# Example usage\n",
        "start_city = 'Arad'\n",
        "goal_city = 'Bucharest'\n",
        "\n",
        "path, wasted_length = uniform_cost_search_min_wasted_length(graph, start_city, goal_city)\n",
        "\n",
        "if path:\n",
        "    print(f\"Path from {start_city} to {goal_city}: {path}\")\n",
        "    print(f\"Total wasted length: {wasted_length}\")\n",
        "else:\n",
        "    print(f\"No path found from {start_city} to {goal_city}\")\n"
      ],
      "metadata": {
        "colab": {
          "base_uri": "https://localhost:8080/"
        },
        "id": "Nn2BsdxvRL_V",
        "outputId": "ce6ab20d-d2ed-44e3-b13d-ad0e45599704"
      },
      "execution_count": 44,
      "outputs": [
        {
          "output_type": "stream",
          "name": "stdout",
          "text": [
            "Path from Arad to Bucharest: ['Arad', 'Zerind', 'Oradea', 'Sibiu', 'Rimnicu Vilcea', 'Pitesti', 'Bucharest']\n",
            "Total wasted length: 141.56\n"
          ]
        }
      ]
    },
    {
      "cell_type": "code",
      "source": [],
      "metadata": {
        "id": "iTlCgd5PRHxx"
      },
      "execution_count": 24,
      "outputs": []
    }
  ]
}