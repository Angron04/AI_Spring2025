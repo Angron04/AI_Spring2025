{
  "nbformat": 4,
  "nbformat_minor": 0,
  "metadata": {
    "colab": {
      "provenance": [],
      "authorship_tag": "ABX9TyMlCotDKP0CZdfKAHMgdLRL",
      "include_colab_link": true
    },
    "kernelspec": {
      "name": "python3",
      "display_name": "Python 3"
    },
    "language_info": {
      "name": "python"
    }
  },
  "cells": [
    {
      "cell_type": "markdown",
      "metadata": {
        "id": "view-in-github",
        "colab_type": "text"
      },
      "source": [
        "<a href=\"https://colab.research.google.com/github/alex-smith-uwec/AI_Spring2025/blob/main/BlugoldQueries.ipynb\" target=\"_parent\"><img src=\"https://colab.research.google.com/assets/colab-badge.svg\" alt=\"Open In Colab\"/></a>"
      ]
    },
    {
      "cell_type": "code",
      "execution_count": 1,
      "metadata": {
        "colab": {
          "base_uri": "https://localhost:8080/"
        },
        "id": "A2SxoMpqzYJa",
        "outputId": "3da9a0d4-f211-46ce-8056-f5f586c15527"
      },
      "outputs": [
        {
          "output_type": "stream",
          "name": "stdout",
          "text": [
            "Collecting python-sat\n",
            "  Downloading python_sat-1.8.dev14-cp311-cp311-manylinux_2_17_x86_64.manylinux2014_x86_64.manylinux_2_28_x86_64.whl.metadata (1.5 kB)\n",
            "Requirement already satisfied: six in /usr/local/lib/python3.11/dist-packages (from python-sat) (1.17.0)\n",
            "Downloading python_sat-1.8.dev14-cp311-cp311-manylinux_2_17_x86_64.manylinux2014_x86_64.manylinux_2_28_x86_64.whl (2.7 MB)\n",
            "\u001b[?25l   \u001b[90m━━━━━━━━━━━━━━━━━━━━━━━━━━━━━━━━━━━━━━━━\u001b[0m \u001b[32m0.0/2.7 MB\u001b[0m \u001b[31m?\u001b[0m eta \u001b[36m-:--:--\u001b[0m\r\u001b[2K   \u001b[91m━━\u001b[0m\u001b[91m╸\u001b[0m\u001b[90m━━━━━━━━━━━━━━━━━━━━━━━━━━━━━━━━━━━━━\u001b[0m \u001b[32m0.2/2.7 MB\u001b[0m \u001b[31m5.5 MB/s\u001b[0m eta \u001b[36m0:00:01\u001b[0m\r\u001b[2K   \u001b[91m━━━━━━━━━━━━━━━━━━\u001b[0m\u001b[91m╸\u001b[0m\u001b[90m━━━━━━━━━━━━━━━━━━━━━\u001b[0m \u001b[32m1.3/2.7 MB\u001b[0m \u001b[31m19.4 MB/s\u001b[0m eta \u001b[36m0:00:01\u001b[0m\r\u001b[2K   \u001b[91m━━━━━━━━━━━━━━━━━━━━━━━━━━━━━━━━━━━━━━━\u001b[0m\u001b[91m╸\u001b[0m \u001b[32m2.7/2.7 MB\u001b[0m \u001b[31m32.4 MB/s\u001b[0m eta \u001b[36m0:00:01\u001b[0m\r\u001b[2K   \u001b[90m━━━━━━━━━━━━━━━━━━━━━━━━━━━━━━━━━━━━━━━━\u001b[0m \u001b[32m2.7/2.7 MB\u001b[0m \u001b[31m23.7 MB/s\u001b[0m eta \u001b[36m0:00:00\u001b[0m\n",
            "\u001b[?25hInstalling collected packages: python-sat\n",
            "Successfully installed python-sat-1.8.dev14\n"
          ]
        }
      ],
      "source": [
        "!pip install python-sat\n",
        "from pysat.solvers import Glucose3\n",
        "import random\n",
        "solver = Glucose3()"
      ]
    },
    {
      "cell_type": "code",
      "source": [
        "KB = [\n",
        "    [-1, 2],  # -F v U\n",
        "    [1, 3],   # F v M\n",
        "    [-2, 4],  # -U v H\n",
        "    [-3, 4],  # -M v H\n",
        "    [-4, 5]   # -H v E\n",
        "]"
      ],
      "metadata": {
        "id": "U1rqOxcyzjtw"
      },
      "execution_count": 3,
      "outputs": []
    },
    {
      "cell_type": "code",
      "source": [
        "##Query: E? (this is variable 5)\n",
        "# prompt: Add -5  to KB and use solver\n",
        "\n",
        "KB = [\n",
        "    [-1, 2],  # -F v U\n",
        "    [1, 3],   # F v M\n",
        "    [-2, 4],  # -U v H\n",
        "    [-3, 4],  # -M v H\n",
        "    [-4, 5]   # -H v E\n",
        "]\n",
        "\n",
        "KB.append([-5]) # Add -5 to KB\n",
        "\n",
        "for clause in KB:\n",
        "    solver.add_clause(clause)\n",
        "\n",
        "if solver.solve():\n",
        "    print(\"KB is satisfiable\")\n",
        "    model = solver.get_model()\n",
        "    print(\"Model:\", model)\n",
        "else:\n",
        "    print(\"KB is unsatisfiable\")\n"
      ],
      "metadata": {
        "colab": {
          "base_uri": "https://localhost:8080/"
        },
        "id": "JVMTeSZ4zvNx",
        "outputId": "d1e78abc-c455-4c2f-df8a-e83fc72bf247"
      },
      "execution_count": 4,
      "outputs": [
        {
          "output_type": "stream",
          "name": "stdout",
          "text": [
            "Requirement already satisfied: python-sat in /usr/local/lib/python3.11/dist-packages (1.8.dev14)\n",
            "Requirement already satisfied: six in /usr/local/lib/python3.11/dist-packages (from python-sat) (1.17.0)\n",
            "KB is unsatisfiable\n"
          ]
        }
      ]
    },
    {
      "cell_type": "markdown",
      "source": [
        "Since KB+(-E) is unsatisfiable, we conclude E is true."
      ],
      "metadata": {
        "id": "bM4o2PVX0UIj"
      }
    },
    {
      "cell_type": "code",
      "source": [
        "##Query: H? (this is variable 4)\n",
        "# prompt: Add -4  to KB and use solver\n",
        "\n",
        "KB = [\n",
        "    [-1, 2],  # -F v U\n",
        "    [1, 3],   # F v M\n",
        "    [-2, 4],  # -U v H\n",
        "    [-3, 4],  # -M v H\n",
        "    [-4, 5]   # -H v E\n",
        "]\n",
        "\n",
        "KB.append([-4]) # Add -4 to KB\n",
        "\n",
        "for clause in KB:\n",
        "    solver.add_clause(clause)\n",
        "\n",
        "if solver.solve():\n",
        "    print(\"KB is satisfiable\")\n",
        "    model = solver.get_model()\n",
        "    print(\"Model:\", model)\n",
        "else:\n",
        "    print(\"KB is unsatisfiable\")\n"
      ],
      "metadata": {
        "colab": {
          "base_uri": "https://localhost:8080/"
        },
        "id": "cXMJTZOZ0e8D",
        "outputId": "4c18c64f-ee13-4791-94be-24ad2bd70ac0"
      },
      "execution_count": 5,
      "outputs": [
        {
          "output_type": "stream",
          "name": "stdout",
          "text": [
            "KB is unsatisfiable\n"
          ]
        }
      ]
    },
    {
      "cell_type": "markdown",
      "source": [
        "Since KB+(-F) is unsatisfiable, we conclude F is true."
      ],
      "metadata": {
        "id": "_-ti2QK10xX1"
      }
    }
  ]
}