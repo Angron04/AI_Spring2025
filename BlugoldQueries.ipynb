{
  "nbformat": 4,
  "nbformat_minor": 0,
  "metadata": {
    "colab": {
      "provenance": [],
      "authorship_tag": "ABX9TyP9n7hmUd9ZUVXDlXTlRfYn",
      "include_colab_link": true
    },
    "kernelspec": {
      "name": "python3",
      "display_name": "Python 3"
    },
    "language_info": {
      "name": "python"
    }
  },
  "cells": [
    {
      "cell_type": "markdown",
      "metadata": {
        "id": "view-in-github",
        "colab_type": "text"
      },
      "source": [
        "<a href=\"https://colab.research.google.com/github/alex-smith-uwec/AI_Spring2025/blob/main/BlugoldQueries.ipynb\" target=\"_parent\"><img src=\"https://colab.research.google.com/assets/colab-badge.svg\" alt=\"Open In Colab\"/></a>"
      ]
    },
    {
      "cell_type": "code",
      "execution_count": 16,
      "metadata": {
        "id": "A2SxoMpqzYJa"
      },
      "outputs": [],
      "source": [
        "!pip install python-sat -q\n",
        "from pysat.solvers import Glucose3\n",
        "solver = Glucose3()"
      ]
    },
    {
      "cell_type": "code",
      "source": [
        "KB = [\n",
        "    [-1, 2],  # -F v U\n",
        "    [1, 3],   # F v M\n",
        "    [-2, 4],  # -U v H\n",
        "    [-3, 4],  # -M v H\n",
        "    [-4, 5]   # -H v E\n",
        "]"
      ],
      "metadata": {
        "id": "U1rqOxcyzjtw"
      },
      "execution_count": null,
      "outputs": []
    },
    {
      "cell_type": "markdown",
      "source": [
        "# Is the Blugold Enchanted?"
      ],
      "metadata": {
        "id": "natKD4383pyG"
      }
    },
    {
      "cell_type": "code",
      "source": [
        "##Query: E? (this is variable 5)\n",
        "# prompt: Add -5  to KB and use solver\n",
        "\n",
        "\n",
        "KB = [\n",
        "    [-1, 2],  # -F v U\n",
        "    [1, 3],   # F v M\n",
        "    [-2, 4],  # -U v H\n",
        "    [-3, 4],  # -M v H\n",
        "    [-4, 5]   # -H v E\n",
        "]\n",
        "\n",
        "KB.append([-5]) # Add -5 to KB\n",
        "\n",
        "for clause in KB:\n",
        "    solver.add_clause(clause)\n",
        "\n",
        "if solver.solve():\n",
        "    print(\"KB is satisfiable\")\n",
        "    model = solver.get_model()\n",
        "    print(\"Model:\", model)\n",
        "else:\n",
        "    print(\"KB is unsatisfiable\")\n"
      ],
      "metadata": {
        "colab": {
          "base_uri": "https://localhost:8080/"
        },
        "id": "JVMTeSZ4zvNx",
        "outputId": "15d85bf2-2d8d-451a-ccba-b88ea3e006ef"
      },
      "execution_count": null,
      "outputs": [
        {
          "output_type": "stream",
          "name": "stdout",
          "text": [
            "KB is unsatisfiable\n"
          ]
        }
      ]
    },
    {
      "cell_type": "markdown",
      "source": [
        "Since KB+(-E) is unsatisfiable, we conclude E is true."
      ],
      "metadata": {
        "id": "bM4o2PVX0UIj"
      }
    },
    {
      "cell_type": "markdown",
      "source": [
        "# Is the Blugold Horned?"
      ],
      "metadata": {
        "id": "wbsz788C3zR9"
      }
    },
    {
      "cell_type": "code",
      "source": [
        "##Query: H? (this is variable 4)\n",
        "# prompt: Add -4  to KB and use solver\n",
        "\n",
        "solver = Glucose3()\n",
        "\n",
        "KB = [\n",
        "    [-1, 2],  # -F v U\n",
        "    [1, 3],   # F v M\n",
        "    [-2, 4],  # -U v H\n",
        "    [-3, 4],  # -M v H\n",
        "    [-4, 5]   # -H v E\n",
        "]\n",
        "\n",
        "KB.append([-4]) # Add -4 to KB\n",
        "\n",
        "for clause in KB:\n",
        "    solver.add_clause(clause)\n",
        "\n",
        "if solver.solve():\n",
        "    print(\"KB is satisfiable\")\n",
        "    model = solver.get_model()\n",
        "    print(\"Model:\", model)\n",
        "else:\n",
        "    print(\"KB is unsatisfiable\")\n"
      ],
      "metadata": {
        "colab": {
          "base_uri": "https://localhost:8080/"
        },
        "id": "cXMJTZOZ0e8D",
        "outputId": "9e83b9ff-b11c-40ce-c08b-8a9ebc28b9b5"
      },
      "execution_count": 17,
      "outputs": [
        {
          "output_type": "stream",
          "name": "stdout",
          "text": [
            "KB is unsatisfiable\n"
          ]
        }
      ]
    },
    {
      "cell_type": "markdown",
      "source": [
        "Since KB+(-H) is unsatisfiable, we conclude H is true."
      ],
      "metadata": {
        "id": "_-ti2QK10xX1"
      }
    },
    {
      "cell_type": "markdown",
      "source": [
        "# Is the Blugold Fabled?"
      ],
      "metadata": {
        "id": "IM_wkMwH38xS"
      }
    },
    {
      "cell_type": "code",
      "source": [
        "##Query: F? (this is variable 1)\n",
        "# prompt: Add -1  to KB and use solver\n",
        "\n",
        "solver = Glucose3()\n",
        "KB = [\n",
        "    [-1, 2],  # -F v U\n",
        "    [1, 3],   # F v M\n",
        "    [-2, 4],  # -U v H\n",
        "    [-3, 4],  # -M v H\n",
        "    [-4, 5]   # -H v E\n",
        "]\n",
        "\n",
        "KB.append([-1]) # Add -1 to KB\n",
        "\n",
        "for clause in KB:\n",
        "    solver.add_clause(clause)\n",
        "\n",
        "if solver.solve():\n",
        "    print(\"KB is satisfiable\")\n",
        "    model = solver.get_model()\n",
        "    print(\"Model:\", model)\n",
        "else:\n",
        "    print(\"KB is unsatisfiable\")"
      ],
      "metadata": {
        "colab": {
          "base_uri": "https://localhost:8080/"
        },
        "id": "FrUjS7BQ1QGP",
        "outputId": "a2fba883-60de-44b2-f78f-7c5f16d1fc28"
      },
      "execution_count": 18,
      "outputs": [
        {
          "output_type": "stream",
          "name": "stdout",
          "text": [
            "KB is satisfiable\n",
            "Model: [-1, -2, 3, 4, 5]\n"
          ]
        }
      ]
    },
    {
      "cell_type": "markdown",
      "source": [
        "Since KB+{-F} is satisfiable, *we can make no conclusion*.\n",
        "\n",
        "We must now look at KB+{F}\n",
        "\n",
        "\n"
      ],
      "metadata": {
        "id": "5OrKpTx7257t"
      }
    },
    {
      "cell_type": "code",
      "source": [
        "##Query: -F? (this is variable 1)\n",
        "# prompt: Add +1  to KB and use solver\n",
        "\n",
        "solver = Glucose3()\n",
        "KB = [\n",
        "    [-1, 2],  # -F v U\n",
        "    [1, 3],   # F v M\n",
        "    [-2, 4],  # -U v H\n",
        "    [-3, 4],  # -M v H\n",
        "    [-4, 5]   # -H v E\n",
        "]\n",
        "\n",
        "KB.append([1]) # Add -1 to KB\n",
        "\n",
        "for clause in KB:\n",
        "    solver.add_clause(clause)\n",
        "\n",
        "if solver.solve():\n",
        "    print(\"KB is satisfiable\")\n",
        "    model = solver.get_model()\n",
        "    print(\"Model:\", model)\n",
        "else:\n",
        "    print(\"KB is unsatisfiable\")"
      ],
      "metadata": {
        "colab": {
          "base_uri": "https://localhost:8080/"
        },
        "id": "oWjAGobj1pSq",
        "outputId": "2172c28a-f028-49da-9a4e-80cf049d2ce9"
      },
      "execution_count": null,
      "outputs": [
        {
          "output_type": "stream",
          "name": "stdout",
          "text": [
            "KB is satisfiable\n",
            "Model: [1, 2, -3, 4, 5]\n"
          ]
        }
      ]
    },
    {
      "cell_type": "markdown",
      "source": [
        "Since both KB+{-F} and KB+{F} are satisfiable, we conclude the statement \"Is the Blugold fabled\" is *undecidable.*"
      ],
      "metadata": {
        "id": "LPN4EkY13RxO"
      }
    },
    {
      "cell_type": "markdown",
      "source": [
        "# Is the Blugold Mortal?"
      ],
      "metadata": {
        "id": "3l2LulWY4O6u"
      }
    },
    {
      "cell_type": "code",
      "source": [
        "##Query: M? (this is variable 3)\n",
        "# prompt: Add -3  to KB and use solver\n",
        "\n",
        "solver = Glucose3()\n",
        "KB = [\n",
        "    [-1, 2],  # -F v U\n",
        "    [1, 3],   # F v M\n",
        "    [-2, 4],  # -U v H\n",
        "    [-3, 4],  # -M v H\n",
        "    [-4, 5]   # -H v E\n",
        "]\n",
        "\n",
        "KB.append([-3]) # Add -3 to KB\n",
        "\n",
        "for clause in KB:\n",
        "    solver.add_clause(clause)\n",
        "\n",
        "if solver.solve():\n",
        "    print(\"KB is satisfiable\")\n",
        "    model = solver.get_model()\n",
        "    print(\"Model:\", model)\n",
        "else:\n",
        "    print(\"KB is unsatisfiable\")"
      ],
      "metadata": {
        "colab": {
          "base_uri": "https://localhost:8080/"
        },
        "id": "mZRKLaAH1pwD",
        "outputId": "afe04ca3-1bf3-44b8-8406-96b7cc8f0a8b"
      },
      "execution_count": null,
      "outputs": [
        {
          "output_type": "stream",
          "name": "stdout",
          "text": [
            "KB is satisfiable\n",
            "Model: [1, 2, -3, 4, 5]\n"
          ]
        }
      ]
    },
    {
      "cell_type": "code",
      "source": [
        "##Query: -M? (this is variable 3)\n",
        "# prompt: Add 3  to KB and use solver\n",
        "\n",
        "solver = Glucose3()\n",
        "KB = [\n",
        "    [-1, 2],  # -F v U\n",
        "    [1, 3],   # F v M\n",
        "    [-2, 4],  # -U v H\n",
        "    [-3, 4],  # -M v H\n",
        "    [-4, 5]   # -H v E\n",
        "]\n",
        "\n",
        "KB.append([3]) # Add 3 to KB\n",
        "\n",
        "for clause in KB:\n",
        "    solver.add_clause(clause)\n",
        "\n",
        "if solver.solve():\n",
        "    print(\"KB is satisfiable\")\n",
        "    model = solver.get_model()\n",
        "    print(\"Model:\", model)\n",
        "else:\n",
        "    print(\"KB is unsatisfiable\")"
      ],
      "metadata": {
        "colab": {
          "base_uri": "https://localhost:8080/"
        },
        "id": "Q0OdJs9N4nqn",
        "outputId": "5dbd7d32-6efb-4678-a2e5-378c167ece8a"
      },
      "execution_count": null,
      "outputs": [
        {
          "output_type": "stream",
          "name": "stdout",
          "text": [
            "KB is satisfiable\n",
            "Model: [-1, -2, 3, 4, 5]\n"
          ]
        }
      ]
    },
    {
      "cell_type": "markdown",
      "source": [
        "Since both KB+{-M} and KB+{M} are satisfiable, we conclude the statement \"Is the Blugold mortal\" is *undecidable.*"
      ],
      "metadata": {
        "id": "WhDoDgqS5GCn"
      }
    }
  ]
}