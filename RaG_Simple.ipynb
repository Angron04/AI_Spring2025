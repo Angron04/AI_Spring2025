{
  "nbformat": 4,
  "nbformat_minor": 0,
  "metadata": {
    "colab": {
      "provenance": [],
      "authorship_tag": "ABX9TyNoPCo8iwStq2zL/c9I0xJ0",
      "include_colab_link": true
    },
    "kernelspec": {
      "name": "python3",
      "display_name": "Python 3"
    },
    "language_info": {
      "name": "python"
    },
    "widgets": {
      "application/vnd.jupyter.widget-state+json": {
        "30db0d3c96a84cecbf1cba5bbe2857f6": {
          "model_module": "@jupyter-widgets/controls",
          "model_name": "HBoxModel",
          "model_module_version": "1.5.0",
          "state": {
            "_dom_classes": [],
            "_model_module": "@jupyter-widgets/controls",
            "_model_module_version": "1.5.0",
            "_model_name": "HBoxModel",
            "_view_count": null,
            "_view_module": "@jupyter-widgets/controls",
            "_view_module_version": "1.5.0",
            "_view_name": "HBoxView",
            "box_style": "",
            "children": [
              "IPY_MODEL_afb76c859f5245f5b0dbf1e7b14425ca",
              "IPY_MODEL_3817e20c898a432687bea09a1bcb078a",
              "IPY_MODEL_83a61484f6df4cea873a8d92db7009ea"
            ],
            "layout": "IPY_MODEL_836a774d94094d439112f97a9cf2a3d1"
          }
        },
        "afb76c859f5245f5b0dbf1e7b14425ca": {
          "model_module": "@jupyter-widgets/controls",
          "model_name": "HTMLModel",
          "model_module_version": "1.5.0",
          "state": {
            "_dom_classes": [],
            "_model_module": "@jupyter-widgets/controls",
            "_model_module_version": "1.5.0",
            "_model_name": "HTMLModel",
            "_view_count": null,
            "_view_module": "@jupyter-widgets/controls",
            "_view_module_version": "1.5.0",
            "_view_name": "HTMLView",
            "description": "",
            "description_tooltip": null,
            "layout": "IPY_MODEL_ee4527333e32498f9aa05a41e986c9c4",
            "placeholder": "​",
            "style": "IPY_MODEL_e6014ab5b47047a98bfbf3e920bb371b",
            "value": "Map: 100%"
          }
        },
        "3817e20c898a432687bea09a1bcb078a": {
          "model_module": "@jupyter-widgets/controls",
          "model_name": "FloatProgressModel",
          "model_module_version": "1.5.0",
          "state": {
            "_dom_classes": [],
            "_model_module": "@jupyter-widgets/controls",
            "_model_module_version": "1.5.0",
            "_model_name": "FloatProgressModel",
            "_view_count": null,
            "_view_module": "@jupyter-widgets/controls",
            "_view_module_version": "1.5.0",
            "_view_name": "ProgressView",
            "bar_style": "success",
            "description": "",
            "description_tooltip": null,
            "layout": "IPY_MODEL_04aaf845508f448a8b5beadd992de835",
            "max": 5000,
            "min": 0,
            "orientation": "horizontal",
            "style": "IPY_MODEL_3509897bacca42baae3c42ae5ef01127",
            "value": 5000
          }
        },
        "83a61484f6df4cea873a8d92db7009ea": {
          "model_module": "@jupyter-widgets/controls",
          "model_name": "HTMLModel",
          "model_module_version": "1.5.0",
          "state": {
            "_dom_classes": [],
            "_model_module": "@jupyter-widgets/controls",
            "_model_module_version": "1.5.0",
            "_model_name": "HTMLModel",
            "_view_count": null,
            "_view_module": "@jupyter-widgets/controls",
            "_view_module_version": "1.5.0",
            "_view_name": "HTMLView",
            "description": "",
            "description_tooltip": null,
            "layout": "IPY_MODEL_8091d8a0529c4b32a4d219124bb0f5f6",
            "placeholder": "​",
            "style": "IPY_MODEL_ae67470e01ab40968d1abe0e6e00852e",
            "value": " 5000/5000 [02:12&lt;00:00, 29.12 examples/s]"
          }
        },
        "836a774d94094d439112f97a9cf2a3d1": {
          "model_module": "@jupyter-widgets/base",
          "model_name": "LayoutModel",
          "model_module_version": "1.2.0",
          "state": {
            "_model_module": "@jupyter-widgets/base",
            "_model_module_version": "1.2.0",
            "_model_name": "LayoutModel",
            "_view_count": null,
            "_view_module": "@jupyter-widgets/base",
            "_view_module_version": "1.2.0",
            "_view_name": "LayoutView",
            "align_content": null,
            "align_items": null,
            "align_self": null,
            "border": null,
            "bottom": null,
            "display": null,
            "flex": null,
            "flex_flow": null,
            "grid_area": null,
            "grid_auto_columns": null,
            "grid_auto_flow": null,
            "grid_auto_rows": null,
            "grid_column": null,
            "grid_gap": null,
            "grid_row": null,
            "grid_template_areas": null,
            "grid_template_columns": null,
            "grid_template_rows": null,
            "height": null,
            "justify_content": null,
            "justify_items": null,
            "left": null,
            "margin": null,
            "max_height": null,
            "max_width": null,
            "min_height": null,
            "min_width": null,
            "object_fit": null,
            "object_position": null,
            "order": null,
            "overflow": null,
            "overflow_x": null,
            "overflow_y": null,
            "padding": null,
            "right": null,
            "top": null,
            "visibility": null,
            "width": null
          }
        },
        "ee4527333e32498f9aa05a41e986c9c4": {
          "model_module": "@jupyter-widgets/base",
          "model_name": "LayoutModel",
          "model_module_version": "1.2.0",
          "state": {
            "_model_module": "@jupyter-widgets/base",
            "_model_module_version": "1.2.0",
            "_model_name": "LayoutModel",
            "_view_count": null,
            "_view_module": "@jupyter-widgets/base",
            "_view_module_version": "1.2.0",
            "_view_name": "LayoutView",
            "align_content": null,
            "align_items": null,
            "align_self": null,
            "border": null,
            "bottom": null,
            "display": null,
            "flex": null,
            "flex_flow": null,
            "grid_area": null,
            "grid_auto_columns": null,
            "grid_auto_flow": null,
            "grid_auto_rows": null,
            "grid_column": null,
            "grid_gap": null,
            "grid_row": null,
            "grid_template_areas": null,
            "grid_template_columns": null,
            "grid_template_rows": null,
            "height": null,
            "justify_content": null,
            "justify_items": null,
            "left": null,
            "margin": null,
            "max_height": null,
            "max_width": null,
            "min_height": null,
            "min_width": null,
            "object_fit": null,
            "object_position": null,
            "order": null,
            "overflow": null,
            "overflow_x": null,
            "overflow_y": null,
            "padding": null,
            "right": null,
            "top": null,
            "visibility": null,
            "width": null
          }
        },
        "e6014ab5b47047a98bfbf3e920bb371b": {
          "model_module": "@jupyter-widgets/controls",
          "model_name": "DescriptionStyleModel",
          "model_module_version": "1.5.0",
          "state": {
            "_model_module": "@jupyter-widgets/controls",
            "_model_module_version": "1.5.0",
            "_model_name": "DescriptionStyleModel",
            "_view_count": null,
            "_view_module": "@jupyter-widgets/base",
            "_view_module_version": "1.2.0",
            "_view_name": "StyleView",
            "description_width": ""
          }
        },
        "04aaf845508f448a8b5beadd992de835": {
          "model_module": "@jupyter-widgets/base",
          "model_name": "LayoutModel",
          "model_module_version": "1.2.0",
          "state": {
            "_model_module": "@jupyter-widgets/base",
            "_model_module_version": "1.2.0",
            "_model_name": "LayoutModel",
            "_view_count": null,
            "_view_module": "@jupyter-widgets/base",
            "_view_module_version": "1.2.0",
            "_view_name": "LayoutView",
            "align_content": null,
            "align_items": null,
            "align_self": null,
            "border": null,
            "bottom": null,
            "display": null,
            "flex": null,
            "flex_flow": null,
            "grid_area": null,
            "grid_auto_columns": null,
            "grid_auto_flow": null,
            "grid_auto_rows": null,
            "grid_column": null,
            "grid_gap": null,
            "grid_row": null,
            "grid_template_areas": null,
            "grid_template_columns": null,
            "grid_template_rows": null,
            "height": null,
            "justify_content": null,
            "justify_items": null,
            "left": null,
            "margin": null,
            "max_height": null,
            "max_width": null,
            "min_height": null,
            "min_width": null,
            "object_fit": null,
            "object_position": null,
            "order": null,
            "overflow": null,
            "overflow_x": null,
            "overflow_y": null,
            "padding": null,
            "right": null,
            "top": null,
            "visibility": null,
            "width": null
          }
        },
        "3509897bacca42baae3c42ae5ef01127": {
          "model_module": "@jupyter-widgets/controls",
          "model_name": "ProgressStyleModel",
          "model_module_version": "1.5.0",
          "state": {
            "_model_module": "@jupyter-widgets/controls",
            "_model_module_version": "1.5.0",
            "_model_name": "ProgressStyleModel",
            "_view_count": null,
            "_view_module": "@jupyter-widgets/base",
            "_view_module_version": "1.2.0",
            "_view_name": "StyleView",
            "bar_color": null,
            "description_width": ""
          }
        },
        "8091d8a0529c4b32a4d219124bb0f5f6": {
          "model_module": "@jupyter-widgets/base",
          "model_name": "LayoutModel",
          "model_module_version": "1.2.0",
          "state": {
            "_model_module": "@jupyter-widgets/base",
            "_model_module_version": "1.2.0",
            "_model_name": "LayoutModel",
            "_view_count": null,
            "_view_module": "@jupyter-widgets/base",
            "_view_module_version": "1.2.0",
            "_view_name": "LayoutView",
            "align_content": null,
            "align_items": null,
            "align_self": null,
            "border": null,
            "bottom": null,
            "display": null,
            "flex": null,
            "flex_flow": null,
            "grid_area": null,
            "grid_auto_columns": null,
            "grid_auto_flow": null,
            "grid_auto_rows": null,
            "grid_column": null,
            "grid_gap": null,
            "grid_row": null,
            "grid_template_areas": null,
            "grid_template_columns": null,
            "grid_template_rows": null,
            "height": null,
            "justify_content": null,
            "justify_items": null,
            "left": null,
            "margin": null,
            "max_height": null,
            "max_width": null,
            "min_height": null,
            "min_width": null,
            "object_fit": null,
            "object_position": null,
            "order": null,
            "overflow": null,
            "overflow_x": null,
            "overflow_y": null,
            "padding": null,
            "right": null,
            "top": null,
            "visibility": null,
            "width": null
          }
        },
        "ae67470e01ab40968d1abe0e6e00852e": {
          "model_module": "@jupyter-widgets/controls",
          "model_name": "DescriptionStyleModel",
          "model_module_version": "1.5.0",
          "state": {
            "_model_module": "@jupyter-widgets/controls",
            "_model_module_version": "1.5.0",
            "_model_name": "DescriptionStyleModel",
            "_view_count": null,
            "_view_module": "@jupyter-widgets/base",
            "_view_module_version": "1.2.0",
            "_view_name": "StyleView",
            "description_width": ""
          }
        }
      }
    }
  },
  "cells": [
    {
      "cell_type": "markdown",
      "metadata": {
        "id": "view-in-github",
        "colab_type": "text"
      },
      "source": [
        "<a href=\"https://colab.research.google.com/github/alex-smith-uwec/AI_Spring2025/blob/main/RaG_Simple.ipynb\" target=\"_parent\"><img src=\"https://colab.research.google.com/assets/colab-badge.svg\" alt=\"Open In Colab\"/></a>"
      ]
    },
    {
      "cell_type": "code",
      "execution_count": null,
      "metadata": {
        "id": "Xc-mMzJCctkO"
      },
      "outputs": [],
      "source": []
    },
    {
      "cell_type": "code",
      "source": [
        "# !pip install transformers\n",
        "!pip install datasets -q\n",
        "!pip install sentence-transformers -q\n"
      ],
      "metadata": {
        "id": "X5BRTubCcuC1"
      },
      "execution_count": null,
      "outputs": []
    },
    {
      "cell_type": "code",
      "source": [
        "from datasets import load_dataset\n",
        "from sentence_transformers import SentenceTransformer\n",
        "from sklearn.metrics.pairwise import cosine_similarity\n",
        "from sentence_transformers import SentenceTransformer\n",
        "from transformers import pipeline\n",
        "import numpy as np\n",
        "import pandas as pd\n",
        "import textwrap"
      ],
      "metadata": {
        "id": "xT9ZI2yQcuF4"
      },
      "execution_count": null,
      "outputs": []
    },
    {
      "cell_type": "markdown",
      "source": [
        "# Dataset: eli5_category, filtered to \"Physics\""
      ],
      "metadata": {
        "id": "qonKokBOro0l"
      }
    },
    {
      "cell_type": "code",
      "source": [
        "# Load the training split of the dataset\n",
        "dataset = load_dataset(\"eli5_category\", split='train',trust_remote_code=True)\n",
        "\n",
        "# Define a function to check if the category is 'physics'\n",
        "def filter_physics(example):\n",
        "    return example['category'] == 'Physics'\n",
        "\n",
        "# Filter the dataset to only include 'physics' category\n",
        "physics_dataset = dataset.filter(filter_physics)\n",
        "\n",
        "# Slice the first 5000 entries if there are at least that many\n",
        "if len(physics_dataset) > 5000:\n",
        "    physics_dataset = physics_dataset.select(range(5000))\n",
        "\n",
        "# If fewer than 5000 physics entries, this retains all available physics entries\n",
        "\n"
      ],
      "metadata": {
        "id": "U1a_0ZNvdnJg"
      },
      "execution_count": null,
      "outputs": []
    },
    {
      "cell_type": "code",
      "source": [
        "physics_dataset"
      ],
      "metadata": {
        "colab": {
          "base_uri": "https://localhost:8080/"
        },
        "id": "P9MHrZ_n7mXm",
        "outputId": "2019892c-c063-421b-da00-661a67fc796c"
      },
      "execution_count": null,
      "outputs": [
        {
          "output_type": "execute_result",
          "data": {
            "text/plain": [
              "Dataset({\n",
              "    features: ['q_id', 'title', 'selftext', 'category', 'subreddit', 'answers', 'title_urls', 'selftext_urls'],\n",
              "    num_rows: 5000\n",
              "})"
            ]
          },
          "metadata": {},
          "execution_count": 4
        }
      ]
    },
    {
      "cell_type": "code",
      "source": [
        "phys = physics_dataset.flatten()"
      ],
      "metadata": {
        "id": "RwM0N9bb8lvC"
      },
      "execution_count": null,
      "outputs": []
    },
    {
      "cell_type": "code",
      "source": [
        "phys"
      ],
      "metadata": {
        "colab": {
          "base_uri": "https://localhost:8080/"
        },
        "id": "bfAOZLEx_8Uj",
        "outputId": "6a2e57be-adb4-4fea-e21e-215cfb4b0a72"
      },
      "execution_count": null,
      "outputs": [
        {
          "output_type": "execute_result",
          "data": {
            "text/plain": [
              "Dataset({\n",
              "    features: ['q_id', 'title', 'selftext', 'category', 'subreddit', 'answers.a_id', 'answers.text', 'answers.score', 'answers.text_urls', 'title_urls', 'selftext_urls'],\n",
              "    num_rows: 5000\n",
              "})"
            ]
          },
          "metadata": {},
          "execution_count": 6
        }
      ]
    },
    {
      "cell_type": "code",
      "source": [
        "phys = phys.rename_column('answers.text', 'answers')\n",
        "phys=phys.rename_column('title','question')"
      ],
      "metadata": {
        "id": "qL1DElMP8Qge"
      },
      "execution_count": null,
      "outputs": []
    },
    {
      "cell_type": "code",
      "source": [
        "phys"
      ],
      "metadata": {
        "colab": {
          "base_uri": "https://localhost:8080/"
        },
        "id": "znR4Uqk5AXuv",
        "outputId": "09e3055d-10ac-48a4-8661-bb5dfd031dd8"
      },
      "execution_count": null,
      "outputs": [
        {
          "output_type": "execute_result",
          "data": {
            "text/plain": [
              "Dataset({\n",
              "    features: ['q_id', 'question', 'selftext', 'category', 'subreddit', 'answers.a_id', 'answers', 'answers.score', 'answers.text_urls', 'title_urls', 'selftext_urls'],\n",
              "    num_rows: 5000\n",
              "})"
            ]
          },
          "metadata": {},
          "execution_count": 8
        }
      ]
    },
    {
      "cell_type": "code",
      "source": [
        "columns_to_keep = ['question', 'answers']\n",
        "\n",
        "# List of columns to remove\n",
        "columns_to_remove = [col for col in phys.column_names if col not in columns_to_keep]\n",
        "\n",
        "# Remove the unwanted columns\n",
        "phys = phys.remove_columns(columns_to_remove)"
      ],
      "metadata": {
        "id": "uX7Lv20NETwU"
      },
      "execution_count": null,
      "outputs": []
    },
    {
      "cell_type": "code",
      "source": [
        "phys"
      ],
      "metadata": {
        "id": "Uc7nyTZzKJJ7",
        "colab": {
          "base_uri": "https://localhost:8080/"
        },
        "outputId": "c9bbd843-e38a-4305-a621-7e9f3b0a8fb6"
      },
      "execution_count": null,
      "outputs": [
        {
          "output_type": "execute_result",
          "data": {
            "text/plain": [
              "Dataset({\n",
              "    features: ['question', 'answers'],\n",
              "    num_rows: 5000\n",
              "})"
            ]
          },
          "metadata": {},
          "execution_count": 10
        }
      ]
    },
    {
      "cell_type": "code",
      "source": [
        "def extract_first_answer(row):\n",
        "    # Check if the 'answers' list is not empty\n",
        "    if row['answers']:\n",
        "        # Return the first answer\n",
        "        return {'best_answer': row['answers'][0]}\n",
        "    else:\n",
        "        # Return None or an empty string if there are no answers\n",
        "        return {'best_answer': None}\n",
        "\n",
        "# Apply the function to each row\n",
        "phys = phys.map(extract_first_answer)\n"
      ],
      "metadata": {
        "id": "sw-2a8gEE0Ix"
      },
      "execution_count": null,
      "outputs": []
    },
    {
      "cell_type": "code",
      "source": [
        "phys"
      ],
      "metadata": {
        "colab": {
          "base_uri": "https://localhost:8080/"
        },
        "id": "y9vW0BneDY92",
        "outputId": "e47abda5-c4f9-4913-f386-87ef35454ce7"
      },
      "execution_count": null,
      "outputs": [
        {
          "output_type": "execute_result",
          "data": {
            "text/plain": [
              "Dataset({\n",
              "    features: ['question', 'answers', 'best_answer'],\n",
              "    num_rows: 5000\n",
              "})"
            ]
          },
          "metadata": {},
          "execution_count": 12
        }
      ]
    },
    {
      "cell_type": "markdown",
      "source": [
        "# Embed title entries"
      ],
      "metadata": {
        "id": "BcasDboovjp8"
      }
    },
    {
      "cell_type": "code",
      "source": [
        "model = SentenceTransformer('sentence-transformers/all-MiniLM-L6-v2')"
      ],
      "metadata": {
        "id": "AL2PwkZAv3Jf"
      },
      "execution_count": null,
      "outputs": []
    },
    {
      "cell_type": "code",
      "source": [
        "# Function to compute embeddings\n",
        "def compute_embeddings(row):\n",
        "    # Compute embedding for the question\n",
        "    embedding = model.encode(row['question'], convert_to_tensor=True)\n",
        "    # Return the embedding as a list to ensure compatibility with the dataset format\n",
        "    return {'question_embed': embedding.numpy().tolist()}"
      ],
      "metadata": {
        "id": "4gJDalLcvsmC"
      },
      "execution_count": null,
      "outputs": []
    },
    {
      "cell_type": "code",
      "source": [
        "# Apply the function to each row to create the new column\n",
        "phys = phys.map(compute_embeddings)"
      ],
      "metadata": {
        "id": "xgcOHb0Hv81l",
        "colab": {
          "base_uri": "https://localhost:8080/",
          "height": 49,
          "referenced_widgets": [
            "30db0d3c96a84cecbf1cba5bbe2857f6",
            "afb76c859f5245f5b0dbf1e7b14425ca",
            "3817e20c898a432687bea09a1bcb078a",
            "83a61484f6df4cea873a8d92db7009ea",
            "836a774d94094d439112f97a9cf2a3d1",
            "ee4527333e32498f9aa05a41e986c9c4",
            "e6014ab5b47047a98bfbf3e920bb371b",
            "04aaf845508f448a8b5beadd992de835",
            "3509897bacca42baae3c42ae5ef01127",
            "8091d8a0529c4b32a4d219124bb0f5f6",
            "ae67470e01ab40968d1abe0e6e00852e"
          ]
        },
        "outputId": "534f86bb-62a9-46b3-e497-efb86f6ef5cf"
      },
      "execution_count": null,
      "outputs": [
        {
          "output_type": "display_data",
          "data": {
            "text/plain": [
              "Map:   0%|          | 0/5000 [00:00<?, ? examples/s]"
            ],
            "application/vnd.jupyter.widget-view+json": {
              "version_major": 2,
              "version_minor": 0,
              "model_id": "30db0d3c96a84cecbf1cba5bbe2857f6"
            }
          },
          "metadata": {}
        }
      ]
    },
    {
      "cell_type": "code",
      "source": [
        "# Convert the list of embeddings in the dataset to a 2D NumPy array\n",
        "question_embeddings = np.array(phys['question_embed'])\n"
      ],
      "metadata": {
        "id": "jcPJUvQxFI1l"
      },
      "execution_count": null,
      "outputs": []
    },
    {
      "cell_type": "markdown",
      "source": [
        "# Bring in an LLM"
      ],
      "metadata": {
        "id": "dKbr_kNZQaxv"
      }
    },
    {
      "cell_type": "code",
      "source": [
        "# generator = pipeline('text-generation', model='gpt2')\n",
        "generator = pipeline('text-generation', model='EleutherAI/gpt-neo-1.3B')"
      ],
      "metadata": {
        "id": "nRRLgJQL1nQa"
      },
      "execution_count": null,
      "outputs": []
    },
    {
      "cell_type": "code",
      "source": [
        "# query = \"What is light?\"\n",
        "query=\"What is temperature?\"\n",
        "query_embedding = model.encode(query, convert_to_tensor=False).reshape(1, -1)\n",
        "\n",
        "\n",
        "\n",
        "# Calculate cosine similarities (returns a 2D array)\n",
        "similarities = cosine_similarity(query_embedding, question_embeddings)\n",
        "\n",
        "# Extract similarity scores from the array\n",
        "similarity_scores = similarities[0]\n",
        "\n",
        "# Get indices of the top k most similar questions\n",
        "k=1\n",
        "most_similar_indices = np.argsort(similarity_scores)[::-1][:k]\n",
        "\n",
        "# Retrieve the most similar questions using the indices\n",
        "most_similar_questions = [phys['question'][index] for index in most_similar_indices]"
      ],
      "metadata": {
        "id": "V2DrbAgPze9r"
      },
      "execution_count": null,
      "outputs": []
    },
    {
      "cell_type": "code",
      "source": [
        "most_similar_questions"
      ],
      "metadata": {
        "colab": {
          "base_uri": "https://localhost:8080/"
        },
        "id": "9ZjlwkY8Hp4O",
        "outputId": "8cf32d16-5e45-4c78-e1a2-a74a45c6e21b"
      },
      "execution_count": null,
      "outputs": [
        {
          "output_type": "execute_result",
          "data": {
            "text/plain": [
              "['What do degrees (temperature) actually measure?']"
            ]
          },
          "metadata": {},
          "execution_count": 19
        }
      ]
    },
    {
      "cell_type": "code",
      "source": [],
      "metadata": {
        "id": "U8jZfP8q1nHM"
      },
      "execution_count": null,
      "outputs": []
    },
    {
      "cell_type": "code",
      "source": [
        "most_similar_indices"
      ],
      "metadata": {
        "colab": {
          "base_uri": "https://localhost:8080/"
        },
        "id": "k1NcjBPJI2PU",
        "outputId": "45ee7b75-9ce3-4b87-be0f-77b9ae1c8e98"
      },
      "execution_count": null,
      "outputs": [
        {
          "output_type": "execute_result",
          "data": {
            "text/plain": [
              "array([3472])"
            ]
          },
          "metadata": {},
          "execution_count": 20
        }
      ]
    },
    {
      "cell_type": "code",
      "source": [
        "# Assuming you have a list called most_similar_indices and a dataset phys\n",
        "\n",
        "# Retrieve the best answers for the most similar questions\n",
        "best_answers = [phys['best_answer'][index] for index in most_similar_indices]\n",
        "\n",
        "prompt = f\"Original query: '{query}'\\n\" \\\n",
        "         f\"Relevant question: '{phys['question'][most_similar_indices[0]]}'\\n\" \\\n",
        "         f\"Best answer provided: {best_answers[0]}\\n\\n\" \\\n",
        "         \"Given this context, can you provide a detailed explanation or additional insights?\"\n",
        "\n",
        "\n"
      ],
      "metadata": {
        "id": "JGYsBKv_I2d6"
      },
      "execution_count": null,
      "outputs": []
    },
    {
      "cell_type": "code",
      "source": [
        "prompt"
      ],
      "metadata": {
        "id": "ENvrj76cUqsN",
        "outputId": "2b1604e6-ffbc-4993-9bfe-75ad117ca5dd",
        "colab": {
          "base_uri": "https://localhost:8080/",
          "height": 100
        }
      },
      "execution_count": null,
      "outputs": [
        {
          "output_type": "execute_result",
          "data": {
            "text/plain": [
              "\"Original query: 'What is temperature?'\\nRelevant question: 'What do degrees (temperature) actually measure?'\\nBest answer provided: At a basic level you can think of temperature as the average molecular energy of a system. Temperature can be measured in different ways, but they all come down to measuring changes in heat energy (molecular motion and jiggling). In everyday thermometers, what is measured is how a liquid (originally mercury) expands with temperature, travelling up the bulb. The expansion is due to the atoms in the liquid moving faster and pushing on each other harder. In devices called thermocouples, the temperature affects how well a piece of metal conducts electricity, which can be measured precisely. There are also infrared thermometers, which measure the heat energy in the form of light that objects give off. It's important to note that temperature isn't the same thing as energy, but the explanation requires delving into the wonders of thermodynamics, which is a bit too complicated for me to ELI5.\\n\\nGiven this context, can you provide a detailed explanation or additional insights?\""
            ],
            "application/vnd.google.colaboratory.intrinsic+json": {
              "type": "string"
            }
          },
          "metadata": {},
          "execution_count": 22
        }
      ]
    },
    {
      "cell_type": "code",
      "source": [
        "response = generator(prompt, max_length=300)\n",
        "\n",
        "\n",
        "# Join these answers into a single string, separating them with a space or some other separator\n",
        "prompt = \" \".join(best_answers)\n",
        "\n",
        "# Now, this prompt can be used with your LLM pipeline\n",
        "# Assuming the LLM pipeline is initialized as `generator`\n",
        "# response = generator(prompt, max_length=50, truncation=True)\n",
        "response = generator(prompt, max_length=200, truncation=True, length_penalty=1.1)"
      ],
      "metadata": {
        "id": "1K4MqM3aUez8",
        "outputId": "5cec4d10-6324-48db-cfe3-1d5c076fe5be",
        "colab": {
          "base_uri": "https://localhost:8080/"
        }
      },
      "execution_count": null,
      "outputs": [
        {
          "output_type": "stream",
          "name": "stderr",
          "text": [
            "Truncation was not explicitly activated but `max_length` is provided a specific value, please use `truncation=True` to explicitly truncate examples to max length. Defaulting to 'longest_first' truncation strategy. If you encode pairs of sequences (GLUE-style) with the tokenizer you can select this strategy more precisely by providing a specific strategy to `truncation`.\n",
            "Setting `pad_token_id` to `eos_token_id`:50256 for open-end generation.\n",
            "/usr/local/lib/python3.10/dist-packages/transformers/generation/configuration_utils.py:472: UserWarning: `num_beams` is set to 1. However, `length_penalty` is set to `1.1` -- this flag is only used in beam-based generation modes. You should set `num_beams>1` or unset `length_penalty`.\n",
            "  warnings.warn(\n",
            "Setting `pad_token_id` to `eos_token_id`:50256 for open-end generation.\n"
          ]
        }
      ]
    },
    {
      "cell_type": "code",
      "source": [
        "response"
      ],
      "metadata": {
        "colab": {
          "base_uri": "https://localhost:8080/"
        },
        "id": "7rV2ZlzGK6NT",
        "outputId": "5e57eb37-9d52-4641-dfa4-fc9da328b5bc"
      },
      "execution_count": null,
      "outputs": [
        {
          "output_type": "execute_result",
          "data": {
            "text/plain": [
              "[{'generated_text': \"At a basic level you can think of temperature as the average molecular energy of a system. Temperature can be measured in different ways, but they all come down to measuring changes in heat energy (molecular motion and jiggling). In everyday thermometers, what is measured is how a liquid (originally mercury) expands with temperature, travelling up the bulb. The expansion is due to the atoms in the liquid moving faster and pushing on each other harder. In devices called thermocouples, the temperature affects how well a piece of metal conducts electricity, which can be measured precisely. There are also infrared thermometers, which measure the heat energy in the form of light that objects give off. It's important to note that temperature isn't the same thing as energy, but the explanation requires delving into the wonders of thermodynamics, which is a bit too complicated for me to ELI5. A thermometer's readings can be used to calculate the temperature of a system. Heat is a\"}]"
            ]
          },
          "metadata": {},
          "execution_count": 24
        }
      ]
    },
    {
      "cell_type": "code",
      "source": [
        "# Retrieve the Reddit questions corresponding to the most similar indices\n",
        "reddit_questions = [phys['question'][index] for index in most_similar_indices]\n",
        "\n",
        "# Convert list of indices to a string\n",
        "indices_string = ', '.join(map(str, most_similar_indices))\n",
        "\n",
        "# Convert list of questions to a string, each question in quotes\n",
        "questions_string = ', '.join(f'\"{question}\"' for question in reddit_questions)\n",
        "\n",
        "generated_text = response[0]['generated_text']  # assuming 'generated_text' is the correct key\n",
        "\n",
        "\n",
        "\n",
        "# Now incorporate this into the formatted output\n",
        "output = f\"Your question was '{query}'\\n\\n\" \\\n",
        "         f\"My answer is informed by the database documents with indices {indices_string}.\\n\\n\" \\\n",
        "         f\"The Reddit questions for these documents are {questions_string}\\n\\n\" \\\n",
        "         f\"My answer:\"\n",
        "\n",
        "# Wrap the generated text to a specified width, e.g., 80 characters\n",
        "wrapped_text = textwrap.fill(generated_text, width=80)\n",
        "\n",
        "# Combine the formatted output with the wrapped text\n",
        "final_output = output + \"\\n\" + wrapped_text\n",
        "\n",
        "# Print the output\n",
        "print(final_output)\n",
        "\n"
      ],
      "metadata": {
        "colab": {
          "base_uri": "https://localhost:8080/"
        },
        "id": "697Nc-syK7mf",
        "outputId": "bc1faeea-05d9-4b57-999e-c9c66e76cc1d"
      },
      "execution_count": null,
      "outputs": [
        {
          "output_type": "stream",
          "name": "stdout",
          "text": [
            "Your question was 'What is temperature?'\n",
            "\n",
            "My answer is informed by the database documents with indices 3472.\n",
            "\n",
            "The Reddit questions for these documents are \"What do degrees (temperature) actually measure?\"\n",
            "\n",
            "My answer:\n",
            "At a basic level you can think of temperature as the average molecular energy of\n",
            "a system. Temperature can be measured in different ways, but they all come down\n",
            "to measuring changes in heat energy (molecular motion and jiggling). In everyday\n",
            "thermometers, what is measured is how a liquid (originally mercury) expands with\n",
            "temperature, travelling up the bulb. The expansion is due to the atoms in the\n",
            "liquid moving faster and pushing on each other harder. In devices called\n",
            "thermocouples, the temperature affects how well a piece of metal conducts\n",
            "electricity, which can be measured precisely. There are also infrared\n",
            "thermometers, which measure the heat energy in the form of light that objects\n",
            "give off. It's important to note that temperature isn't the same thing as\n",
            "energy, but the explanation requires delving into the wonders of thermodynamics,\n",
            "which is a bit too complicated for me to ELI5. A thermometer's readings can be\n",
            "used to calculate the temperature of a system. Heat is a\n"
          ]
        }
      ]
    },
    {
      "cell_type": "code",
      "source": [
        "phys['best_answer'][3472]"
      ],
      "metadata": {
        "colab": {
          "base_uri": "https://localhost:8080/",
          "height": 83
        },
        "id": "JvlhsaR7MCLt",
        "outputId": "897a4949-f613-46d5-a3ab-7fcc095568a5"
      },
      "execution_count": null,
      "outputs": [
        {
          "output_type": "execute_result",
          "data": {
            "text/plain": [
              "\"At a basic level you can think of temperature as the average molecular energy of a system. Temperature can be measured in different ways, but they all come down to measuring changes in heat energy (molecular motion and jiggling). In everyday thermometers, what is measured is how a liquid (originally mercury) expands with temperature, travelling up the bulb. The expansion is due to the atoms in the liquid moving faster and pushing on each other harder. In devices called thermocouples, the temperature affects how well a piece of metal conducts electricity, which can be measured precisely. There are also infrared thermometers, which measure the heat energy in the form of light that objects give off. It's important to note that temperature isn't the same thing as energy, but the explanation requires delving into the wonders of thermodynamics, which is a bit too complicated for me to ELI5.\""
            ],
            "application/vnd.google.colaboratory.intrinsic+json": {
              "type": "string"
            }
          },
          "metadata": {},
          "execution_count": 26
        }
      ]
    },
    {
      "cell_type": "code",
      "source": [],
      "metadata": {
        "id": "g7tApGmpMkwe"
      },
      "execution_count": null,
      "outputs": []
    }
  ]
}