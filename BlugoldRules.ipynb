{
  "nbformat": 4,
  "nbformat_minor": 0,
  "metadata": {
    "colab": {
      "provenance": [],
      "authorship_tag": "ABX9TyPPCmoci2Bf9b+1dtuPc2bG",
      "include_colab_link": true
    },
    "kernelspec": {
      "name": "python3",
      "display_name": "Python 3"
    },
    "language_info": {
      "name": "python"
    }
  },
  "cells": [
    {
      "cell_type": "markdown",
      "metadata": {
        "id": "view-in-github",
        "colab_type": "text"
      },
      "source": [
        "<a href=\"https://colab.research.google.com/github/alex-smith-uwec/AI_Spring2025/blob/main/BlugoldRules.ipynb\" target=\"_parent\"><img src=\"https://colab.research.google.com/assets/colab-badge.svg\" alt=\"Open In Colab\"/></a>"
      ]
    },
    {
      "cell_type": "code",
      "execution_count": 1,
      "metadata": {
        "id": "ARAGtJSxnqkj"
      },
      "outputs": [],
      "source": [
        "import itertools"
      ]
    },
    {
      "cell_type": "code",
      "source": [
        "\n",
        "\n",
        "# Define the variables\n",
        "variables = ['F', 'U', 'M', 'E', 'H']\n"
      ],
      "metadata": {
        "id": "CvKupoUGntfM"
      },
      "execution_count": 2,
      "outputs": []
    },
    {
      "cell_type": "code",
      "source": [
        "\n",
        "# Define functions for each rule\n",
        "def rule1(F, U, M, E, H):\n",
        "    return (not F) or U\n",
        "\n",
        "def rule2(F, U, M, E, H):\n",
        "    return F or M\n",
        "\n",
        "def rule3(F, U, M, E, H):\n",
        "    return (not U) or H\n",
        "\n",
        "def rule4(F, U, M, E, H):\n",
        "    return (not M) or H\n",
        "\n",
        "def rule5(F, U, M, E, H):\n",
        "    return (not H) or E\n"
      ],
      "metadata": {
        "id": "I2Y6I-zRnvhn"
      },
      "execution_count": 3,
      "outputs": []
    },
    {
      "cell_type": "code",
      "source": [
        "\n",
        "# Create header for the truth table\n",
        "header = variables + ['rule1', 'rule2', 'rule3', 'rule4', 'rule5']\n",
        "print(\"\\t\".join(header))\n",
        "\n",
        "# Generate all combinations for the 5 variables (False, True)\n",
        "for F, U, M, E, H in itertools.product([False, True], repeat=5):\n",
        "    # Evaluate each rule based on the current truth assignment\n",
        "    r1 = rule1(F, U, M, E, H)\n",
        "    r2 = rule2(F, U, M, E, H)\n",
        "    r3 = rule3(F, U, M, E, H)\n",
        "    r4 = rule4(F, U, M, E, H)\n",
        "    r5 = rule5(F, U, M, E, H)\n",
        "    # Create a row with variable values and the result of each rule\n",
        "    row = [F, U, M, E, H, r1, r2, r3, r4, r5]\n",
        "    print(\"\\t\".join(map(str, row)))\n"
      ],
      "metadata": {
        "colab": {
          "base_uri": "https://localhost:8080/"
        },
        "id": "1xmnJXsmnx1h",
        "outputId": "af5dd588-15a5-45c4-b4b8-9167e20a09cf"
      },
      "execution_count": 4,
      "outputs": [
        {
          "output_type": "stream",
          "name": "stdout",
          "text": [
            "F\tU\tM\tE\tH\trule1\trule2\trule3\trule4\trule5\n",
            "False\tFalse\tFalse\tFalse\tFalse\tTrue\tFalse\tTrue\tTrue\tTrue\n",
            "False\tFalse\tFalse\tFalse\tTrue\tTrue\tFalse\tTrue\tTrue\tFalse\n",
            "False\tFalse\tFalse\tTrue\tFalse\tTrue\tFalse\tTrue\tTrue\tTrue\n",
            "False\tFalse\tFalse\tTrue\tTrue\tTrue\tFalse\tTrue\tTrue\tTrue\n",
            "False\tFalse\tTrue\tFalse\tFalse\tTrue\tTrue\tTrue\tFalse\tTrue\n",
            "False\tFalse\tTrue\tFalse\tTrue\tTrue\tTrue\tTrue\tTrue\tFalse\n",
            "False\tFalse\tTrue\tTrue\tFalse\tTrue\tTrue\tTrue\tFalse\tTrue\n",
            "False\tFalse\tTrue\tTrue\tTrue\tTrue\tTrue\tTrue\tTrue\tTrue\n",
            "False\tTrue\tFalse\tFalse\tFalse\tTrue\tFalse\tFalse\tTrue\tTrue\n",
            "False\tTrue\tFalse\tFalse\tTrue\tTrue\tFalse\tTrue\tTrue\tFalse\n",
            "False\tTrue\tFalse\tTrue\tFalse\tTrue\tFalse\tFalse\tTrue\tTrue\n",
            "False\tTrue\tFalse\tTrue\tTrue\tTrue\tFalse\tTrue\tTrue\tTrue\n",
            "False\tTrue\tTrue\tFalse\tFalse\tTrue\tTrue\tFalse\tFalse\tTrue\n",
            "False\tTrue\tTrue\tFalse\tTrue\tTrue\tTrue\tTrue\tTrue\tFalse\n",
            "False\tTrue\tTrue\tTrue\tFalse\tTrue\tTrue\tFalse\tFalse\tTrue\n",
            "False\tTrue\tTrue\tTrue\tTrue\tTrue\tTrue\tTrue\tTrue\tTrue\n",
            "True\tFalse\tFalse\tFalse\tFalse\tFalse\tTrue\tTrue\tTrue\tTrue\n",
            "True\tFalse\tFalse\tFalse\tTrue\tFalse\tTrue\tTrue\tTrue\tFalse\n",
            "True\tFalse\tFalse\tTrue\tFalse\tFalse\tTrue\tTrue\tTrue\tTrue\n",
            "True\tFalse\tFalse\tTrue\tTrue\tFalse\tTrue\tTrue\tTrue\tTrue\n",
            "True\tFalse\tTrue\tFalse\tFalse\tFalse\tTrue\tTrue\tFalse\tTrue\n",
            "True\tFalse\tTrue\tFalse\tTrue\tFalse\tTrue\tTrue\tTrue\tFalse\n",
            "True\tFalse\tTrue\tTrue\tFalse\tFalse\tTrue\tTrue\tFalse\tTrue\n",
            "True\tFalse\tTrue\tTrue\tTrue\tFalse\tTrue\tTrue\tTrue\tTrue\n",
            "True\tTrue\tFalse\tFalse\tFalse\tTrue\tTrue\tFalse\tTrue\tTrue\n",
            "True\tTrue\tFalse\tFalse\tTrue\tTrue\tTrue\tTrue\tTrue\tFalse\n",
            "True\tTrue\tFalse\tTrue\tFalse\tTrue\tTrue\tFalse\tTrue\tTrue\n",
            "True\tTrue\tFalse\tTrue\tTrue\tTrue\tTrue\tTrue\tTrue\tTrue\n",
            "True\tTrue\tTrue\tFalse\tFalse\tTrue\tTrue\tFalse\tFalse\tTrue\n",
            "True\tTrue\tTrue\tFalse\tTrue\tTrue\tTrue\tTrue\tTrue\tFalse\n",
            "True\tTrue\tTrue\tTrue\tFalse\tTrue\tTrue\tFalse\tFalse\tTrue\n",
            "True\tTrue\tTrue\tTrue\tTrue\tTrue\tTrue\tTrue\tTrue\tTrue\n"
          ]
        }
      ]
    },
    {
      "cell_type": "code",
      "source": [
        "# Generate all combinations for the 5 variables\n",
        "rows = []\n",
        "for F, U, M, E, H in itertools.product([False, True], repeat=5):\n",
        "    r1 = rule1(F, U, M, E, H)\n",
        "    r2 = rule2(F, U, M, E, H)\n",
        "    r3 = rule3(F, U, M, E, H)\n",
        "    r4 = rule4(F, U, M, E, H)\n",
        "    r5 = rule5(F, U, M, E, H)\n",
        "    rows.append([F, U, M, E, H, r1, r2, r3, r4, r5])\n",
        "\n",
        "# Sort the rows: rows with all rules True come first.\n",
        "# The key returns False (which sorts before True) for rows where all rules are True.\n",
        "sorted_rows = sorted(rows, key=lambda row: not all(row[5:]))\n",
        "\n",
        "# Print the truth table header\n",
        "header = variables + ['rule1', 'rule2', 'rule3', 'rule4', 'rule5']\n",
        "print(\"\\t\".join(header))\n",
        "\n",
        "# Print the sorted truth table rows\n",
        "for row in sorted_rows:\n",
        "    print(\"\\t\".join(map(str, row)))\n",
        "\n",
        "\n",
        "\n",
        "\n",
        "\n"
      ],
      "metadata": {
        "colab": {
          "base_uri": "https://localhost:8080/"
        },
        "id": "Ht37-oigoD8O",
        "outputId": "a9c215af-e359-40c6-d522-5f71cf0df9d6"
      },
      "execution_count": 6,
      "outputs": [
        {
          "output_type": "stream",
          "name": "stdout",
          "text": [
            "F\tU\tM\tE\tH\trule1\trule2\trule3\trule4\trule5\n",
            "False\tFalse\tTrue\tTrue\tTrue\tTrue\tTrue\tTrue\tTrue\tTrue\n",
            "False\tTrue\tTrue\tTrue\tTrue\tTrue\tTrue\tTrue\tTrue\tTrue\n",
            "True\tTrue\tFalse\tTrue\tTrue\tTrue\tTrue\tTrue\tTrue\tTrue\n",
            "True\tTrue\tTrue\tTrue\tTrue\tTrue\tTrue\tTrue\tTrue\tTrue\n",
            "False\tFalse\tFalse\tFalse\tFalse\tTrue\tFalse\tTrue\tTrue\tTrue\n",
            "False\tFalse\tFalse\tFalse\tTrue\tTrue\tFalse\tTrue\tTrue\tFalse\n",
            "False\tFalse\tFalse\tTrue\tFalse\tTrue\tFalse\tTrue\tTrue\tTrue\n",
            "False\tFalse\tFalse\tTrue\tTrue\tTrue\tFalse\tTrue\tTrue\tTrue\n",
            "False\tFalse\tTrue\tFalse\tFalse\tTrue\tTrue\tTrue\tFalse\tTrue\n",
            "False\tFalse\tTrue\tFalse\tTrue\tTrue\tTrue\tTrue\tTrue\tFalse\n",
            "False\tFalse\tTrue\tTrue\tFalse\tTrue\tTrue\tTrue\tFalse\tTrue\n",
            "False\tTrue\tFalse\tFalse\tFalse\tTrue\tFalse\tFalse\tTrue\tTrue\n",
            "False\tTrue\tFalse\tFalse\tTrue\tTrue\tFalse\tTrue\tTrue\tFalse\n",
            "False\tTrue\tFalse\tTrue\tFalse\tTrue\tFalse\tFalse\tTrue\tTrue\n",
            "False\tTrue\tFalse\tTrue\tTrue\tTrue\tFalse\tTrue\tTrue\tTrue\n",
            "False\tTrue\tTrue\tFalse\tFalse\tTrue\tTrue\tFalse\tFalse\tTrue\n",
            "False\tTrue\tTrue\tFalse\tTrue\tTrue\tTrue\tTrue\tTrue\tFalse\n",
            "False\tTrue\tTrue\tTrue\tFalse\tTrue\tTrue\tFalse\tFalse\tTrue\n",
            "True\tFalse\tFalse\tFalse\tFalse\tFalse\tTrue\tTrue\tTrue\tTrue\n",
            "True\tFalse\tFalse\tFalse\tTrue\tFalse\tTrue\tTrue\tTrue\tFalse\n",
            "True\tFalse\tFalse\tTrue\tFalse\tFalse\tTrue\tTrue\tTrue\tTrue\n",
            "True\tFalse\tFalse\tTrue\tTrue\tFalse\tTrue\tTrue\tTrue\tTrue\n",
            "True\tFalse\tTrue\tFalse\tFalse\tFalse\tTrue\tTrue\tFalse\tTrue\n",
            "True\tFalse\tTrue\tFalse\tTrue\tFalse\tTrue\tTrue\tTrue\tFalse\n",
            "True\tFalse\tTrue\tTrue\tFalse\tFalse\tTrue\tTrue\tFalse\tTrue\n",
            "True\tFalse\tTrue\tTrue\tTrue\tFalse\tTrue\tTrue\tTrue\tTrue\n",
            "True\tTrue\tFalse\tFalse\tFalse\tTrue\tTrue\tFalse\tTrue\tTrue\n",
            "True\tTrue\tFalse\tFalse\tTrue\tTrue\tTrue\tTrue\tTrue\tFalse\n",
            "True\tTrue\tFalse\tTrue\tFalse\tTrue\tTrue\tFalse\tTrue\tTrue\n",
            "True\tTrue\tTrue\tFalse\tFalse\tTrue\tTrue\tFalse\tFalse\tTrue\n",
            "True\tTrue\tTrue\tFalse\tTrue\tTrue\tTrue\tTrue\tTrue\tFalse\n",
            "True\tTrue\tTrue\tTrue\tFalse\tTrue\tTrue\tFalse\tFalse\tTrue\n"
          ]
        }
      ]
    }
  ]
}